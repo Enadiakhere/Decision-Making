{
  "cells": [
    {
      "cell_type": "markdown",
      "metadata": {
        "id": "view-in-github",
        "colab_type": "text"
      },
      "source": [
        "<a href=\"https://colab.research.google.com/github/Enadiakhere/Decision-Making/blob/main/Data%20Science%20and%20Decision_Making.ipynb\" target=\"_parent\"><img src=\"https://colab.research.google.com/assets/colab-badge.svg\" alt=\"Open In Colab\"/></a>"
      ]
    },
    {
      "cell_type": "markdown",
      "id": "4a6ef555",
      "metadata": {
        "id": "4a6ef555"
      },
      "source": [
        "# A model to predict stress using signals"
      ]
    },
    {
      "cell_type": "markdown",
      "id": "27c44e8a",
      "metadata": {
        "id": "27c44e8a"
      },
      "source": [
        "### Import necessary libraries and models"
      ]
    },
    {
      "cell_type": "code",
      "execution_count": 33,
      "id": "7e7b77bf",
      "metadata": {
        "id": "7e7b77bf"
      },
      "outputs": [],
      "source": [
        "from datetime import datetime\n",
        "import pandas as pd"
      ]
    },
    {
      "cell_type": "markdown",
      "id": "7ef4c6c5",
      "metadata": {
        "id": "7ef4c6c5"
      },
      "source": [
        "### Import dataset"
      ]
    },
    {
      "cell_type": "code",
      "execution_count": 34,
      "id": "310a838a",
      "metadata": {
        "id": "310a838a",
        "outputId": "f56e6482-5857-497a-d8bb-c18bd450664d",
        "colab": {
          "base_uri": "https://localhost:8080/"
        }
      },
      "outputs": [
        {
          "output_type": "stream",
          "name": "stdout",
          "text": [
            "   Participant        IBI        Time  Label\n",
            "0           13  23.500000  1645442648      0\n",
            "1           13  24.390625  1645442649      0\n",
            "2           13  25.328125  1645442650      0\n",
            "3           13  26.187500  1645442651      0\n",
            "4           13  27.140625  1645442651      0\n"
          ]
        }
      ],
      "source": [
        "#This is the raw data that is been imported.\n",
        "url = 'https://raw.githubusercontent.com/Enadiakhere/CE888-2023/main/CleanedData/IBIData/IBI13processed.csv'\n",
        "df = pd.read_csv(url)\n",
        "print(df.head(5))"
      ]
    },
    {
      "cell_type": "markdown",
      "id": "7d9c8f98",
      "metadata": {
        "id": "7d9c8f98"
      },
      "source": [
        "### Data Preprocessing"
      ]
    },
    {
      "cell_type": "markdown",
      "id": "0158aae9",
      "metadata": {
        "id": "0158aae9"
      },
      "source": [
        "#### Rename columns"
      ]
    },
    {
      "cell_type": "code",
      "execution_count": 35,
      "id": "4badcf8c",
      "metadata": {
        "id": "4badcf8c",
        "outputId": "49d76c6d-a6d3-4cc3-8495-4c0af4575bcf",
        "colab": {
          "base_uri": "https://localhost:8080/",
          "height": 204
        }
      },
      "outputs": [
        {
          "output_type": "execute_result",
          "data": {
            "text/plain": [
              "   Participant        IBI        Time  Label\n",
              "0           13  23.500000  1645442648      0\n",
              "1           13  24.390625  1645442649      0\n",
              "2           13  25.328125  1645442650      0\n",
              "3           13  26.187500  1645442651      0\n",
              "4           13  27.140625  1645442651      0"
            ],
            "text/html": [
              "\n",
              "  <div id=\"df-ef8def41-0049-4321-8c0d-f9bf5a7ca98c\">\n",
              "    <div class=\"colab-df-container\">\n",
              "      <div>\n",
              "<style scoped>\n",
              "    .dataframe tbody tr th:only-of-type {\n",
              "        vertical-align: middle;\n",
              "    }\n",
              "\n",
              "    .dataframe tbody tr th {\n",
              "        vertical-align: top;\n",
              "    }\n",
              "\n",
              "    .dataframe thead th {\n",
              "        text-align: right;\n",
              "    }\n",
              "</style>\n",
              "<table border=\"1\" class=\"dataframe\">\n",
              "  <thead>\n",
              "    <tr style=\"text-align: right;\">\n",
              "      <th></th>\n",
              "      <th>Participant</th>\n",
              "      <th>IBI</th>\n",
              "      <th>Time</th>\n",
              "      <th>Label</th>\n",
              "    </tr>\n",
              "  </thead>\n",
              "  <tbody>\n",
              "    <tr>\n",
              "      <th>0</th>\n",
              "      <td>13</td>\n",
              "      <td>23.500000</td>\n",
              "      <td>1645442648</td>\n",
              "      <td>0</td>\n",
              "    </tr>\n",
              "    <tr>\n",
              "      <th>1</th>\n",
              "      <td>13</td>\n",
              "      <td>24.390625</td>\n",
              "      <td>1645442649</td>\n",
              "      <td>0</td>\n",
              "    </tr>\n",
              "    <tr>\n",
              "      <th>2</th>\n",
              "      <td>13</td>\n",
              "      <td>25.328125</td>\n",
              "      <td>1645442650</td>\n",
              "      <td>0</td>\n",
              "    </tr>\n",
              "    <tr>\n",
              "      <th>3</th>\n",
              "      <td>13</td>\n",
              "      <td>26.187500</td>\n",
              "      <td>1645442651</td>\n",
              "      <td>0</td>\n",
              "    </tr>\n",
              "    <tr>\n",
              "      <th>4</th>\n",
              "      <td>13</td>\n",
              "      <td>27.140625</td>\n",
              "      <td>1645442651</td>\n",
              "      <td>0</td>\n",
              "    </tr>\n",
              "  </tbody>\n",
              "</table>\n",
              "</div>\n",
              "      <button class=\"colab-df-convert\" onclick=\"convertToInteractive('df-ef8def41-0049-4321-8c0d-f9bf5a7ca98c')\"\n",
              "              title=\"Convert this dataframe to an interactive table.\"\n",
              "              style=\"display:none;\">\n",
              "        \n",
              "  <svg xmlns=\"http://www.w3.org/2000/svg\" height=\"24px\"viewBox=\"0 0 24 24\"\n",
              "       width=\"24px\">\n",
              "    <path d=\"M0 0h24v24H0V0z\" fill=\"none\"/>\n",
              "    <path d=\"M18.56 5.44l.94 2.06.94-2.06 2.06-.94-2.06-.94-.94-2.06-.94 2.06-2.06.94zm-11 1L8.5 8.5l.94-2.06 2.06-.94-2.06-.94L8.5 2.5l-.94 2.06-2.06.94zm10 10l.94 2.06.94-2.06 2.06-.94-2.06-.94-.94-2.06-.94 2.06-2.06.94z\"/><path d=\"M17.41 7.96l-1.37-1.37c-.4-.4-.92-.59-1.43-.59-.52 0-1.04.2-1.43.59L10.3 9.45l-7.72 7.72c-.78.78-.78 2.05 0 2.83L4 21.41c.39.39.9.59 1.41.59.51 0 1.02-.2 1.41-.59l7.78-7.78 2.81-2.81c.8-.78.8-2.07 0-2.86zM5.41 20L4 18.59l7.72-7.72 1.47 1.35L5.41 20z\"/>\n",
              "  </svg>\n",
              "      </button>\n",
              "      \n",
              "  <style>\n",
              "    .colab-df-container {\n",
              "      display:flex;\n",
              "      flex-wrap:wrap;\n",
              "      gap: 12px;\n",
              "    }\n",
              "\n",
              "    .colab-df-convert {\n",
              "      background-color: #E8F0FE;\n",
              "      border: none;\n",
              "      border-radius: 50%;\n",
              "      cursor: pointer;\n",
              "      display: none;\n",
              "      fill: #1967D2;\n",
              "      height: 32px;\n",
              "      padding: 0 0 0 0;\n",
              "      width: 32px;\n",
              "    }\n",
              "\n",
              "    .colab-df-convert:hover {\n",
              "      background-color: #E2EBFA;\n",
              "      box-shadow: 0px 1px 2px rgba(60, 64, 67, 0.3), 0px 1px 3px 1px rgba(60, 64, 67, 0.15);\n",
              "      fill: #174EA6;\n",
              "    }\n",
              "\n",
              "    [theme=dark] .colab-df-convert {\n",
              "      background-color: #3B4455;\n",
              "      fill: #D2E3FC;\n",
              "    }\n",
              "\n",
              "    [theme=dark] .colab-df-convert:hover {\n",
              "      background-color: #434B5C;\n",
              "      box-shadow: 0px 1px 3px 1px rgba(0, 0, 0, 0.15);\n",
              "      filter: drop-shadow(0px 1px 2px rgba(0, 0, 0, 0.3));\n",
              "      fill: #FFFFFF;\n",
              "    }\n",
              "  </style>\n",
              "\n",
              "      <script>\n",
              "        const buttonEl =\n",
              "          document.querySelector('#df-ef8def41-0049-4321-8c0d-f9bf5a7ca98c button.colab-df-convert');\n",
              "        buttonEl.style.display =\n",
              "          google.colab.kernel.accessAllowed ? 'block' : 'none';\n",
              "\n",
              "        async function convertToInteractive(key) {\n",
              "          const element = document.querySelector('#df-ef8def41-0049-4321-8c0d-f9bf5a7ca98c');\n",
              "          const dataTable =\n",
              "            await google.colab.kernel.invokeFunction('convertToInteractive',\n",
              "                                                     [key], {});\n",
              "          if (!dataTable) return;\n",
              "\n",
              "          const docLinkHtml = 'Like what you see? Visit the ' +\n",
              "            '<a target=\"_blank\" href=https://colab.research.google.com/notebooks/data_table.ipynb>data table notebook</a>'\n",
              "            + ' to learn more about interactive tables.';\n",
              "          element.innerHTML = '';\n",
              "          dataTable['output_type'] = 'display_data';\n",
              "          await google.colab.output.renderOutput(dataTable, element);\n",
              "          const docLink = document.createElement('div');\n",
              "          docLink.innerHTML = docLinkHtml;\n",
              "          element.appendChild(docLink);\n",
              "        }\n",
              "      </script>\n",
              "    </div>\n",
              "  </div>\n",
              "  "
            ]
          },
          "metadata": {},
          "execution_count": 35
        }
      ],
      "source": [
        "df.rename(columns = {'1645442647':'IBI', ' IBI':'Secs'}, inplace = True)\n",
        "df.head()"
      ]
    },
    {
      "cell_type": "markdown",
      "id": "1832f983",
      "metadata": {
        "id": "1832f983"
      },
      "source": [
        "#### Let us manipulate the (Timestamp) Time column to get the actual time for each event."
      ]
    },
    {
      "cell_type": "code",
      "execution_count": 36,
      "id": "299a7102",
      "metadata": {
        "id": "299a7102"
      },
      "outputs": [],
      "source": [
        "x = df['Time']"
      ]
    },
    {
      "cell_type": "code",
      "execution_count": 37,
      "id": "6b72d9c3",
      "metadata": {
        "id": "6b72d9c3",
        "outputId": "58fdf239-5e8e-490f-e2d5-4c605a2a980a",
        "colab": {
          "base_uri": "https://localhost:8080/",
          "height": 204
        }
      },
      "outputs": [
        {
          "output_type": "execute_result",
          "data": {
            "text/plain": [
              "   Participant        IBI        Time  Label                Date\n",
              "0           13  23.500000  1645442648      0 2022-02-21 11:24:08\n",
              "1           13  24.390625  1645442649      0 2022-02-21 11:24:09\n",
              "2           13  25.328125  1645442650      0 2022-02-21 11:24:10\n",
              "3           13  26.187500  1645442651      0 2022-02-21 11:24:11\n",
              "4           13  27.140625  1645442651      0 2022-02-21 11:24:11"
            ],
            "text/html": [
              "\n",
              "  <div id=\"df-caedda73-d43b-4881-ae26-e8b9c57ad1d9\">\n",
              "    <div class=\"colab-df-container\">\n",
              "      <div>\n",
              "<style scoped>\n",
              "    .dataframe tbody tr th:only-of-type {\n",
              "        vertical-align: middle;\n",
              "    }\n",
              "\n",
              "    .dataframe tbody tr th {\n",
              "        vertical-align: top;\n",
              "    }\n",
              "\n",
              "    .dataframe thead th {\n",
              "        text-align: right;\n",
              "    }\n",
              "</style>\n",
              "<table border=\"1\" class=\"dataframe\">\n",
              "  <thead>\n",
              "    <tr style=\"text-align: right;\">\n",
              "      <th></th>\n",
              "      <th>Participant</th>\n",
              "      <th>IBI</th>\n",
              "      <th>Time</th>\n",
              "      <th>Label</th>\n",
              "      <th>Date</th>\n",
              "    </tr>\n",
              "  </thead>\n",
              "  <tbody>\n",
              "    <tr>\n",
              "      <th>0</th>\n",
              "      <td>13</td>\n",
              "      <td>23.500000</td>\n",
              "      <td>1645442648</td>\n",
              "      <td>0</td>\n",
              "      <td>2022-02-21 11:24:08</td>\n",
              "    </tr>\n",
              "    <tr>\n",
              "      <th>1</th>\n",
              "      <td>13</td>\n",
              "      <td>24.390625</td>\n",
              "      <td>1645442649</td>\n",
              "      <td>0</td>\n",
              "      <td>2022-02-21 11:24:09</td>\n",
              "    </tr>\n",
              "    <tr>\n",
              "      <th>2</th>\n",
              "      <td>13</td>\n",
              "      <td>25.328125</td>\n",
              "      <td>1645442650</td>\n",
              "      <td>0</td>\n",
              "      <td>2022-02-21 11:24:10</td>\n",
              "    </tr>\n",
              "    <tr>\n",
              "      <th>3</th>\n",
              "      <td>13</td>\n",
              "      <td>26.187500</td>\n",
              "      <td>1645442651</td>\n",
              "      <td>0</td>\n",
              "      <td>2022-02-21 11:24:11</td>\n",
              "    </tr>\n",
              "    <tr>\n",
              "      <th>4</th>\n",
              "      <td>13</td>\n",
              "      <td>27.140625</td>\n",
              "      <td>1645442651</td>\n",
              "      <td>0</td>\n",
              "      <td>2022-02-21 11:24:11</td>\n",
              "    </tr>\n",
              "  </tbody>\n",
              "</table>\n",
              "</div>\n",
              "      <button class=\"colab-df-convert\" onclick=\"convertToInteractive('df-caedda73-d43b-4881-ae26-e8b9c57ad1d9')\"\n",
              "              title=\"Convert this dataframe to an interactive table.\"\n",
              "              style=\"display:none;\">\n",
              "        \n",
              "  <svg xmlns=\"http://www.w3.org/2000/svg\" height=\"24px\"viewBox=\"0 0 24 24\"\n",
              "       width=\"24px\">\n",
              "    <path d=\"M0 0h24v24H0V0z\" fill=\"none\"/>\n",
              "    <path d=\"M18.56 5.44l.94 2.06.94-2.06 2.06-.94-2.06-.94-.94-2.06-.94 2.06-2.06.94zm-11 1L8.5 8.5l.94-2.06 2.06-.94-2.06-.94L8.5 2.5l-.94 2.06-2.06.94zm10 10l.94 2.06.94-2.06 2.06-.94-2.06-.94-.94-2.06-.94 2.06-2.06.94z\"/><path d=\"M17.41 7.96l-1.37-1.37c-.4-.4-.92-.59-1.43-.59-.52 0-1.04.2-1.43.59L10.3 9.45l-7.72 7.72c-.78.78-.78 2.05 0 2.83L4 21.41c.39.39.9.59 1.41.59.51 0 1.02-.2 1.41-.59l7.78-7.78 2.81-2.81c.8-.78.8-2.07 0-2.86zM5.41 20L4 18.59l7.72-7.72 1.47 1.35L5.41 20z\"/>\n",
              "  </svg>\n",
              "      </button>\n",
              "      \n",
              "  <style>\n",
              "    .colab-df-container {\n",
              "      display:flex;\n",
              "      flex-wrap:wrap;\n",
              "      gap: 12px;\n",
              "    }\n",
              "\n",
              "    .colab-df-convert {\n",
              "      background-color: #E8F0FE;\n",
              "      border: none;\n",
              "      border-radius: 50%;\n",
              "      cursor: pointer;\n",
              "      display: none;\n",
              "      fill: #1967D2;\n",
              "      height: 32px;\n",
              "      padding: 0 0 0 0;\n",
              "      width: 32px;\n",
              "    }\n",
              "\n",
              "    .colab-df-convert:hover {\n",
              "      background-color: #E2EBFA;\n",
              "      box-shadow: 0px 1px 2px rgba(60, 64, 67, 0.3), 0px 1px 3px 1px rgba(60, 64, 67, 0.15);\n",
              "      fill: #174EA6;\n",
              "    }\n",
              "\n",
              "    [theme=dark] .colab-df-convert {\n",
              "      background-color: #3B4455;\n",
              "      fill: #D2E3FC;\n",
              "    }\n",
              "\n",
              "    [theme=dark] .colab-df-convert:hover {\n",
              "      background-color: #434B5C;\n",
              "      box-shadow: 0px 1px 3px 1px rgba(0, 0, 0, 0.15);\n",
              "      filter: drop-shadow(0px 1px 2px rgba(0, 0, 0, 0.3));\n",
              "      fill: #FFFFFF;\n",
              "    }\n",
              "  </style>\n",
              "\n",
              "      <script>\n",
              "        const buttonEl =\n",
              "          document.querySelector('#df-caedda73-d43b-4881-ae26-e8b9c57ad1d9 button.colab-df-convert');\n",
              "        buttonEl.style.display =\n",
              "          google.colab.kernel.accessAllowed ? 'block' : 'none';\n",
              "\n",
              "        async function convertToInteractive(key) {\n",
              "          const element = document.querySelector('#df-caedda73-d43b-4881-ae26-e8b9c57ad1d9');\n",
              "          const dataTable =\n",
              "            await google.colab.kernel.invokeFunction('convertToInteractive',\n",
              "                                                     [key], {});\n",
              "          if (!dataTable) return;\n",
              "\n",
              "          const docLinkHtml = 'Like what you see? Visit the ' +\n",
              "            '<a target=\"_blank\" href=https://colab.research.google.com/notebooks/data_table.ipynb>data table notebook</a>'\n",
              "            + ' to learn more about interactive tables.';\n",
              "          element.innerHTML = '';\n",
              "          dataTable['output_type'] = 'display_data';\n",
              "          await google.colab.output.renderOutput(dataTable, element);\n",
              "          const docLink = document.createElement('div');\n",
              "          docLink.innerHTML = docLinkHtml;\n",
              "          element.appendChild(docLink);\n",
              "        }\n",
              "      </script>\n",
              "    </div>\n",
              "  </div>\n",
              "  "
            ]
          },
          "metadata": {},
          "execution_count": 37
        }
      ],
      "source": [
        "df['Date'] = pd.to_datetime(x,unit='s')\n",
        "df.head()"
      ]
    },
    {
      "cell_type": "markdown",
      "id": "c019db81",
      "metadata": {
        "id": "c019db81"
      },
      "source": [
        "#### Separate the date and time information"
      ]
    },
    {
      "cell_type": "code",
      "execution_count": 38,
      "id": "590100e9",
      "metadata": {
        "id": "590100e9",
        "outputId": "b2e36fd5-cb2c-42ee-8310-891cb6a0aa8d",
        "colab": {
          "base_uri": "https://localhost:8080/",
          "height": 419
        }
      },
      "outputs": [
        {
          "output_type": "execute_result",
          "data": {
            "text/plain": [
              "             0      1\n",
              "0     21-02-22  11:24\n",
              "1     21-02-22  11:24\n",
              "2     21-02-22  11:24\n",
              "3     21-02-22  11:24\n",
              "4     21-02-22  11:24\n",
              "...        ...    ...\n",
              "2043  21-02-22  11:54\n",
              "2044  21-02-22  11:54\n",
              "2045  21-02-22  11:54\n",
              "2046  21-02-22  11:54\n",
              "2047  21-02-22  11:54\n",
              "\n",
              "[2048 rows x 2 columns]"
            ],
            "text/html": [
              "\n",
              "  <div id=\"df-dd9f8ffb-d6c6-46cc-a4fd-ffb6e2a72e2d\">\n",
              "    <div class=\"colab-df-container\">\n",
              "      <div>\n",
              "<style scoped>\n",
              "    .dataframe tbody tr th:only-of-type {\n",
              "        vertical-align: middle;\n",
              "    }\n",
              "\n",
              "    .dataframe tbody tr th {\n",
              "        vertical-align: top;\n",
              "    }\n",
              "\n",
              "    .dataframe thead th {\n",
              "        text-align: right;\n",
              "    }\n",
              "</style>\n",
              "<table border=\"1\" class=\"dataframe\">\n",
              "  <thead>\n",
              "    <tr style=\"text-align: right;\">\n",
              "      <th></th>\n",
              "      <th>0</th>\n",
              "      <th>1</th>\n",
              "    </tr>\n",
              "  </thead>\n",
              "  <tbody>\n",
              "    <tr>\n",
              "      <th>0</th>\n",
              "      <td>21-02-22</td>\n",
              "      <td>11:24</td>\n",
              "    </tr>\n",
              "    <tr>\n",
              "      <th>1</th>\n",
              "      <td>21-02-22</td>\n",
              "      <td>11:24</td>\n",
              "    </tr>\n",
              "    <tr>\n",
              "      <th>2</th>\n",
              "      <td>21-02-22</td>\n",
              "      <td>11:24</td>\n",
              "    </tr>\n",
              "    <tr>\n",
              "      <th>3</th>\n",
              "      <td>21-02-22</td>\n",
              "      <td>11:24</td>\n",
              "    </tr>\n",
              "    <tr>\n",
              "      <th>4</th>\n",
              "      <td>21-02-22</td>\n",
              "      <td>11:24</td>\n",
              "    </tr>\n",
              "    <tr>\n",
              "      <th>...</th>\n",
              "      <td>...</td>\n",
              "      <td>...</td>\n",
              "    </tr>\n",
              "    <tr>\n",
              "      <th>2043</th>\n",
              "      <td>21-02-22</td>\n",
              "      <td>11:54</td>\n",
              "    </tr>\n",
              "    <tr>\n",
              "      <th>2044</th>\n",
              "      <td>21-02-22</td>\n",
              "      <td>11:54</td>\n",
              "    </tr>\n",
              "    <tr>\n",
              "      <th>2045</th>\n",
              "      <td>21-02-22</td>\n",
              "      <td>11:54</td>\n",
              "    </tr>\n",
              "    <tr>\n",
              "      <th>2046</th>\n",
              "      <td>21-02-22</td>\n",
              "      <td>11:54</td>\n",
              "    </tr>\n",
              "    <tr>\n",
              "      <th>2047</th>\n",
              "      <td>21-02-22</td>\n",
              "      <td>11:54</td>\n",
              "    </tr>\n",
              "  </tbody>\n",
              "</table>\n",
              "<p>2048 rows × 2 columns</p>\n",
              "</div>\n",
              "      <button class=\"colab-df-convert\" onclick=\"convertToInteractive('df-dd9f8ffb-d6c6-46cc-a4fd-ffb6e2a72e2d')\"\n",
              "              title=\"Convert this dataframe to an interactive table.\"\n",
              "              style=\"display:none;\">\n",
              "        \n",
              "  <svg xmlns=\"http://www.w3.org/2000/svg\" height=\"24px\"viewBox=\"0 0 24 24\"\n",
              "       width=\"24px\">\n",
              "    <path d=\"M0 0h24v24H0V0z\" fill=\"none\"/>\n",
              "    <path d=\"M18.56 5.44l.94 2.06.94-2.06 2.06-.94-2.06-.94-.94-2.06-.94 2.06-2.06.94zm-11 1L8.5 8.5l.94-2.06 2.06-.94-2.06-.94L8.5 2.5l-.94 2.06-2.06.94zm10 10l.94 2.06.94-2.06 2.06-.94-2.06-.94-.94-2.06-.94 2.06-2.06.94z\"/><path d=\"M17.41 7.96l-1.37-1.37c-.4-.4-.92-.59-1.43-.59-.52 0-1.04.2-1.43.59L10.3 9.45l-7.72 7.72c-.78.78-.78 2.05 0 2.83L4 21.41c.39.39.9.59 1.41.59.51 0 1.02-.2 1.41-.59l7.78-7.78 2.81-2.81c.8-.78.8-2.07 0-2.86zM5.41 20L4 18.59l7.72-7.72 1.47 1.35L5.41 20z\"/>\n",
              "  </svg>\n",
              "      </button>\n",
              "      \n",
              "  <style>\n",
              "    .colab-df-container {\n",
              "      display:flex;\n",
              "      flex-wrap:wrap;\n",
              "      gap: 12px;\n",
              "    }\n",
              "\n",
              "    .colab-df-convert {\n",
              "      background-color: #E8F0FE;\n",
              "      border: none;\n",
              "      border-radius: 50%;\n",
              "      cursor: pointer;\n",
              "      display: none;\n",
              "      fill: #1967D2;\n",
              "      height: 32px;\n",
              "      padding: 0 0 0 0;\n",
              "      width: 32px;\n",
              "    }\n",
              "\n",
              "    .colab-df-convert:hover {\n",
              "      background-color: #E2EBFA;\n",
              "      box-shadow: 0px 1px 2px rgba(60, 64, 67, 0.3), 0px 1px 3px 1px rgba(60, 64, 67, 0.15);\n",
              "      fill: #174EA6;\n",
              "    }\n",
              "\n",
              "    [theme=dark] .colab-df-convert {\n",
              "      background-color: #3B4455;\n",
              "      fill: #D2E3FC;\n",
              "    }\n",
              "\n",
              "    [theme=dark] .colab-df-convert:hover {\n",
              "      background-color: #434B5C;\n",
              "      box-shadow: 0px 1px 3px 1px rgba(0, 0, 0, 0.15);\n",
              "      filter: drop-shadow(0px 1px 2px rgba(0, 0, 0, 0.3));\n",
              "      fill: #FFFFFF;\n",
              "    }\n",
              "  </style>\n",
              "\n",
              "      <script>\n",
              "        const buttonEl =\n",
              "          document.querySelector('#df-dd9f8ffb-d6c6-46cc-a4fd-ffb6e2a72e2d button.colab-df-convert');\n",
              "        buttonEl.style.display =\n",
              "          google.colab.kernel.accessAllowed ? 'block' : 'none';\n",
              "\n",
              "        async function convertToInteractive(key) {\n",
              "          const element = document.querySelector('#df-dd9f8ffb-d6c6-46cc-a4fd-ffb6e2a72e2d');\n",
              "          const dataTable =\n",
              "            await google.colab.kernel.invokeFunction('convertToInteractive',\n",
              "                                                     [key], {});\n",
              "          if (!dataTable) return;\n",
              "\n",
              "          const docLinkHtml = 'Like what you see? Visit the ' +\n",
              "            '<a target=\"_blank\" href=https://colab.research.google.com/notebooks/data_table.ipynb>data table notebook</a>'\n",
              "            + ' to learn more about interactive tables.';\n",
              "          element.innerHTML = '';\n",
              "          dataTable['output_type'] = 'display_data';\n",
              "          await google.colab.output.renderOutput(dataTable, element);\n",
              "          const docLink = document.createElement('div');\n",
              "          docLink.innerHTML = docLinkHtml;\n",
              "          element.appendChild(docLink);\n",
              "        }\n",
              "      </script>\n",
              "    </div>\n",
              "  </div>\n",
              "  "
            ]
          },
          "metadata": {},
          "execution_count": 38
        }
      ],
      "source": [
        "df_date_and_time = df['Date'].dt.strftime(\"%d-%m-%y %H:%M\").str.split(\" \", expand=True)\n",
        "df_date_and_time"
      ]
    },
    {
      "cell_type": "markdown",
      "id": "af10d780",
      "metadata": {
        "id": "af10d780"
      },
      "source": [
        "#### Rename the new columns"
      ]
    },
    {
      "cell_type": "code",
      "execution_count": 39,
      "id": "a056df95",
      "metadata": {
        "id": "a056df95",
        "outputId": "376dee91-74d2-4d0a-b639-f7bdd6fb1445",
        "colab": {
          "base_uri": "https://localhost:8080/",
          "height": 204
        }
      },
      "outputs": [
        {
          "output_type": "execute_result",
          "data": {
            "text/plain": [
              "        Day   Time\n",
              "0  21-02-22  11:24\n",
              "1  21-02-22  11:24\n",
              "2  21-02-22  11:24\n",
              "3  21-02-22  11:24\n",
              "4  21-02-22  11:24"
            ],
            "text/html": [
              "\n",
              "  <div id=\"df-f6e0bc36-d83f-45d2-ba49-840161c7c878\">\n",
              "    <div class=\"colab-df-container\">\n",
              "      <div>\n",
              "<style scoped>\n",
              "    .dataframe tbody tr th:only-of-type {\n",
              "        vertical-align: middle;\n",
              "    }\n",
              "\n",
              "    .dataframe tbody tr th {\n",
              "        vertical-align: top;\n",
              "    }\n",
              "\n",
              "    .dataframe thead th {\n",
              "        text-align: right;\n",
              "    }\n",
              "</style>\n",
              "<table border=\"1\" class=\"dataframe\">\n",
              "  <thead>\n",
              "    <tr style=\"text-align: right;\">\n",
              "      <th></th>\n",
              "      <th>Day</th>\n",
              "      <th>Time</th>\n",
              "    </tr>\n",
              "  </thead>\n",
              "  <tbody>\n",
              "    <tr>\n",
              "      <th>0</th>\n",
              "      <td>21-02-22</td>\n",
              "      <td>11:24</td>\n",
              "    </tr>\n",
              "    <tr>\n",
              "      <th>1</th>\n",
              "      <td>21-02-22</td>\n",
              "      <td>11:24</td>\n",
              "    </tr>\n",
              "    <tr>\n",
              "      <th>2</th>\n",
              "      <td>21-02-22</td>\n",
              "      <td>11:24</td>\n",
              "    </tr>\n",
              "    <tr>\n",
              "      <th>3</th>\n",
              "      <td>21-02-22</td>\n",
              "      <td>11:24</td>\n",
              "    </tr>\n",
              "    <tr>\n",
              "      <th>4</th>\n",
              "      <td>21-02-22</td>\n",
              "      <td>11:24</td>\n",
              "    </tr>\n",
              "  </tbody>\n",
              "</table>\n",
              "</div>\n",
              "      <button class=\"colab-df-convert\" onclick=\"convertToInteractive('df-f6e0bc36-d83f-45d2-ba49-840161c7c878')\"\n",
              "              title=\"Convert this dataframe to an interactive table.\"\n",
              "              style=\"display:none;\">\n",
              "        \n",
              "  <svg xmlns=\"http://www.w3.org/2000/svg\" height=\"24px\"viewBox=\"0 0 24 24\"\n",
              "       width=\"24px\">\n",
              "    <path d=\"M0 0h24v24H0V0z\" fill=\"none\"/>\n",
              "    <path d=\"M18.56 5.44l.94 2.06.94-2.06 2.06-.94-2.06-.94-.94-2.06-.94 2.06-2.06.94zm-11 1L8.5 8.5l.94-2.06 2.06-.94-2.06-.94L8.5 2.5l-.94 2.06-2.06.94zm10 10l.94 2.06.94-2.06 2.06-.94-2.06-.94-.94-2.06-.94 2.06-2.06.94z\"/><path d=\"M17.41 7.96l-1.37-1.37c-.4-.4-.92-.59-1.43-.59-.52 0-1.04.2-1.43.59L10.3 9.45l-7.72 7.72c-.78.78-.78 2.05 0 2.83L4 21.41c.39.39.9.59 1.41.59.51 0 1.02-.2 1.41-.59l7.78-7.78 2.81-2.81c.8-.78.8-2.07 0-2.86zM5.41 20L4 18.59l7.72-7.72 1.47 1.35L5.41 20z\"/>\n",
              "  </svg>\n",
              "      </button>\n",
              "      \n",
              "  <style>\n",
              "    .colab-df-container {\n",
              "      display:flex;\n",
              "      flex-wrap:wrap;\n",
              "      gap: 12px;\n",
              "    }\n",
              "\n",
              "    .colab-df-convert {\n",
              "      background-color: #E8F0FE;\n",
              "      border: none;\n",
              "      border-radius: 50%;\n",
              "      cursor: pointer;\n",
              "      display: none;\n",
              "      fill: #1967D2;\n",
              "      height: 32px;\n",
              "      padding: 0 0 0 0;\n",
              "      width: 32px;\n",
              "    }\n",
              "\n",
              "    .colab-df-convert:hover {\n",
              "      background-color: #E2EBFA;\n",
              "      box-shadow: 0px 1px 2px rgba(60, 64, 67, 0.3), 0px 1px 3px 1px rgba(60, 64, 67, 0.15);\n",
              "      fill: #174EA6;\n",
              "    }\n",
              "\n",
              "    [theme=dark] .colab-df-convert {\n",
              "      background-color: #3B4455;\n",
              "      fill: #D2E3FC;\n",
              "    }\n",
              "\n",
              "    [theme=dark] .colab-df-convert:hover {\n",
              "      background-color: #434B5C;\n",
              "      box-shadow: 0px 1px 3px 1px rgba(0, 0, 0, 0.15);\n",
              "      filter: drop-shadow(0px 1px 2px rgba(0, 0, 0, 0.3));\n",
              "      fill: #FFFFFF;\n",
              "    }\n",
              "  </style>\n",
              "\n",
              "      <script>\n",
              "        const buttonEl =\n",
              "          document.querySelector('#df-f6e0bc36-d83f-45d2-ba49-840161c7c878 button.colab-df-convert');\n",
              "        buttonEl.style.display =\n",
              "          google.colab.kernel.accessAllowed ? 'block' : 'none';\n",
              "\n",
              "        async function convertToInteractive(key) {\n",
              "          const element = document.querySelector('#df-f6e0bc36-d83f-45d2-ba49-840161c7c878');\n",
              "          const dataTable =\n",
              "            await google.colab.kernel.invokeFunction('convertToInteractive',\n",
              "                                                     [key], {});\n",
              "          if (!dataTable) return;\n",
              "\n",
              "          const docLinkHtml = 'Like what you see? Visit the ' +\n",
              "            '<a target=\"_blank\" href=https://colab.research.google.com/notebooks/data_table.ipynb>data table notebook</a>'\n",
              "            + ' to learn more about interactive tables.';\n",
              "          element.innerHTML = '';\n",
              "          dataTable['output_type'] = 'display_data';\n",
              "          await google.colab.output.renderOutput(dataTable, element);\n",
              "          const docLink = document.createElement('div');\n",
              "          docLink.innerHTML = docLinkHtml;\n",
              "          element.appendChild(docLink);\n",
              "        }\n",
              "      </script>\n",
              "    </div>\n",
              "  </div>\n",
              "  "
            ]
          },
          "metadata": {},
          "execution_count": 39
        }
      ],
      "source": [
        "df_date_and_time.rename(columns = {0:'Day', 1:'Time'}, inplace = True)\n",
        "df_date_and_time.head()"
      ]
    },
    {
      "cell_type": "markdown",
      "id": "e476cc57",
      "metadata": {
        "id": "e476cc57"
      },
      "source": [
        "#### Create a list for the various time of the stress based activities for the dataset for labeling the different data points"
      ]
    },
    {
      "cell_type": "code",
      "execution_count": 40,
      "id": "df28159a",
      "metadata": {
        "id": "df28159a"
      },
      "outputs": [],
      "source": [
        "stroop = ['11:35','11:36','11:37','11:38','11:39','11:40','11:41','11:42']\n",
        "interview = ['11:48','11:49','11:50','11:51','11:52','11:53','11:54','11:55','11:58','11:56','11:57']\n",
        "hyp = ['12:03','12:04','12:05']"
      ]
    },
    {
      "cell_type": "markdown",
      "id": "24ad6965",
      "metadata": {
        "id": "24ad6965"
      },
      "source": [
        "#### Create a Label column for annotation"
      ]
    },
    {
      "cell_type": "code",
      "execution_count": 41,
      "id": "1f9d1a13",
      "metadata": {
        "id": "1f9d1a13",
        "outputId": "b1a60e5f-509d-45ae-aefd-a77b336f7c79",
        "colab": {
          "base_uri": "https://localhost:8080/",
          "height": 204
        }
      },
      "outputs": [
        {
          "output_type": "execute_result",
          "data": {
            "text/plain": [
              "        Day   Time  label\n",
              "0  21-02-22  11:24      0\n",
              "1  21-02-22  11:24      0\n",
              "2  21-02-22  11:24      0\n",
              "3  21-02-22  11:24      0\n",
              "4  21-02-22  11:24      0"
            ],
            "text/html": [
              "\n",
              "  <div id=\"df-df472669-422b-4fd1-b758-7b41a819cc92\">\n",
              "    <div class=\"colab-df-container\">\n",
              "      <div>\n",
              "<style scoped>\n",
              "    .dataframe tbody tr th:only-of-type {\n",
              "        vertical-align: middle;\n",
              "    }\n",
              "\n",
              "    .dataframe tbody tr th {\n",
              "        vertical-align: top;\n",
              "    }\n",
              "\n",
              "    .dataframe thead th {\n",
              "        text-align: right;\n",
              "    }\n",
              "</style>\n",
              "<table border=\"1\" class=\"dataframe\">\n",
              "  <thead>\n",
              "    <tr style=\"text-align: right;\">\n",
              "      <th></th>\n",
              "      <th>Day</th>\n",
              "      <th>Time</th>\n",
              "      <th>label</th>\n",
              "    </tr>\n",
              "  </thead>\n",
              "  <tbody>\n",
              "    <tr>\n",
              "      <th>0</th>\n",
              "      <td>21-02-22</td>\n",
              "      <td>11:24</td>\n",
              "      <td>0</td>\n",
              "    </tr>\n",
              "    <tr>\n",
              "      <th>1</th>\n",
              "      <td>21-02-22</td>\n",
              "      <td>11:24</td>\n",
              "      <td>0</td>\n",
              "    </tr>\n",
              "    <tr>\n",
              "      <th>2</th>\n",
              "      <td>21-02-22</td>\n",
              "      <td>11:24</td>\n",
              "      <td>0</td>\n",
              "    </tr>\n",
              "    <tr>\n",
              "      <th>3</th>\n",
              "      <td>21-02-22</td>\n",
              "      <td>11:24</td>\n",
              "      <td>0</td>\n",
              "    </tr>\n",
              "    <tr>\n",
              "      <th>4</th>\n",
              "      <td>21-02-22</td>\n",
              "      <td>11:24</td>\n",
              "      <td>0</td>\n",
              "    </tr>\n",
              "  </tbody>\n",
              "</table>\n",
              "</div>\n",
              "      <button class=\"colab-df-convert\" onclick=\"convertToInteractive('df-df472669-422b-4fd1-b758-7b41a819cc92')\"\n",
              "              title=\"Convert this dataframe to an interactive table.\"\n",
              "              style=\"display:none;\">\n",
              "        \n",
              "  <svg xmlns=\"http://www.w3.org/2000/svg\" height=\"24px\"viewBox=\"0 0 24 24\"\n",
              "       width=\"24px\">\n",
              "    <path d=\"M0 0h24v24H0V0z\" fill=\"none\"/>\n",
              "    <path d=\"M18.56 5.44l.94 2.06.94-2.06 2.06-.94-2.06-.94-.94-2.06-.94 2.06-2.06.94zm-11 1L8.5 8.5l.94-2.06 2.06-.94-2.06-.94L8.5 2.5l-.94 2.06-2.06.94zm10 10l.94 2.06.94-2.06 2.06-.94-2.06-.94-.94-2.06-.94 2.06-2.06.94z\"/><path d=\"M17.41 7.96l-1.37-1.37c-.4-.4-.92-.59-1.43-.59-.52 0-1.04.2-1.43.59L10.3 9.45l-7.72 7.72c-.78.78-.78 2.05 0 2.83L4 21.41c.39.39.9.59 1.41.59.51 0 1.02-.2 1.41-.59l7.78-7.78 2.81-2.81c.8-.78.8-2.07 0-2.86zM5.41 20L4 18.59l7.72-7.72 1.47 1.35L5.41 20z\"/>\n",
              "  </svg>\n",
              "      </button>\n",
              "      \n",
              "  <style>\n",
              "    .colab-df-container {\n",
              "      display:flex;\n",
              "      flex-wrap:wrap;\n",
              "      gap: 12px;\n",
              "    }\n",
              "\n",
              "    .colab-df-convert {\n",
              "      background-color: #E8F0FE;\n",
              "      border: none;\n",
              "      border-radius: 50%;\n",
              "      cursor: pointer;\n",
              "      display: none;\n",
              "      fill: #1967D2;\n",
              "      height: 32px;\n",
              "      padding: 0 0 0 0;\n",
              "      width: 32px;\n",
              "    }\n",
              "\n",
              "    .colab-df-convert:hover {\n",
              "      background-color: #E2EBFA;\n",
              "      box-shadow: 0px 1px 2px rgba(60, 64, 67, 0.3), 0px 1px 3px 1px rgba(60, 64, 67, 0.15);\n",
              "      fill: #174EA6;\n",
              "    }\n",
              "\n",
              "    [theme=dark] .colab-df-convert {\n",
              "      background-color: #3B4455;\n",
              "      fill: #D2E3FC;\n",
              "    }\n",
              "\n",
              "    [theme=dark] .colab-df-convert:hover {\n",
              "      background-color: #434B5C;\n",
              "      box-shadow: 0px 1px 3px 1px rgba(0, 0, 0, 0.15);\n",
              "      filter: drop-shadow(0px 1px 2px rgba(0, 0, 0, 0.3));\n",
              "      fill: #FFFFFF;\n",
              "    }\n",
              "  </style>\n",
              "\n",
              "      <script>\n",
              "        const buttonEl =\n",
              "          document.querySelector('#df-df472669-422b-4fd1-b758-7b41a819cc92 button.colab-df-convert');\n",
              "        buttonEl.style.display =\n",
              "          google.colab.kernel.accessAllowed ? 'block' : 'none';\n",
              "\n",
              "        async function convertToInteractive(key) {\n",
              "          const element = document.querySelector('#df-df472669-422b-4fd1-b758-7b41a819cc92');\n",
              "          const dataTable =\n",
              "            await google.colab.kernel.invokeFunction('convertToInteractive',\n",
              "                                                     [key], {});\n",
              "          if (!dataTable) return;\n",
              "\n",
              "          const docLinkHtml = 'Like what you see? Visit the ' +\n",
              "            '<a target=\"_blank\" href=https://colab.research.google.com/notebooks/data_table.ipynb>data table notebook</a>'\n",
              "            + ' to learn more about interactive tables.';\n",
              "          element.innerHTML = '';\n",
              "          dataTable['output_type'] = 'display_data';\n",
              "          await google.colab.output.renderOutput(dataTable, element);\n",
              "          const docLink = document.createElement('div');\n",
              "          docLink.innerHTML = docLinkHtml;\n",
              "          element.appendChild(docLink);\n",
              "        }\n",
              "      </script>\n",
              "    </div>\n",
              "  </div>\n",
              "  "
            ]
          },
          "metadata": {},
          "execution_count": 41
        }
      ],
      "source": [
        "df_date_and_time['label'] = 0\n",
        "df_date_and_time.head()"
      ]
    },
    {
      "cell_type": "markdown",
      "id": "de6d21a0",
      "metadata": {
        "id": "de6d21a0"
      },
      "source": [
        "#### Let us check whether each signal happened during a stress-based task or not"
      ]
    },
    {
      "cell_type": "code",
      "execution_count": 42,
      "id": "a97e837f",
      "metadata": {
        "id": "a97e837f"
      },
      "outputs": [],
      "source": [
        "pattern = '|'.join(stroop)     # joining list for comparision\n",
        "IScritical=df_date_and_time['Time'].str.contains(pattern,case=False)\n",
        "df_date_and_time['label'] = IScritical.replace((True,False), (1,df_date_and_time['label']))\n",
        "\n",
        "pattern = '|'.join(interview)     # joining list for comparision\n",
        "IScritical=df_date_and_time['Time'].str.contains(pattern,case=False)\n",
        "df_date_and_time['label'] = IScritical.replace((True,False), (1,df_date_and_time['label']))\n",
        "\n",
        "pattern = '|'.join(hyp)     # joining list for comparision\n",
        "IScritical=df_date_and_time['Time'].str.contains(pattern,case=False)\n",
        "df_date_and_time['label'] = IScritical.replace((True,False), (1,df_date_and_time['label']))"
      ]
    },
    {
      "cell_type": "markdown",
      "id": "b93ea5b6",
      "metadata": {
        "id": "b93ea5b6"
      },
      "source": [
        "#### Check class distribution"
      ]
    },
    {
      "cell_type": "code",
      "execution_count": 43,
      "id": "146b3ee6",
      "metadata": {
        "id": "146b3ee6",
        "outputId": "b113885a-0daf-4275-d9df-49b10857706c",
        "colab": {
          "base_uri": "https://localhost:8080/"
        }
      },
      "outputs": [
        {
          "output_type": "stream",
          "name": "stdout",
          "text": [
            "0    1080\n",
            "1     968\n",
            "Name: label, dtype: int64\n"
          ]
        }
      ],
      "source": [
        "print(df_date_and_time['label'].value_counts())"
      ]
    },
    {
      "cell_type": "markdown",
      "id": "f628659c",
      "metadata": {
        "id": "f628659c"
      },
      "source": [
        "#### Create a new dataframe for the processed data"
      ]
    },
    {
      "cell_type": "code",
      "execution_count": 44,
      "id": "c7e050f4",
      "metadata": {
        "id": "c7e050f4",
        "outputId": "5da985c6-dcd2-4435-dc2e-c1f4fe256020",
        "colab": {
          "base_uri": "https://localhost:8080/",
          "height": 204
        }
      },
      "outputs": [
        {
          "output_type": "execute_result",
          "data": {
            "text/plain": [
              "         IBI        Time  Label  Participant\n",
              "0  23.500000  1645442648      0           13\n",
              "1  24.390625  1645442649      0           13\n",
              "2  25.328125  1645442650      0           13\n",
              "3  26.187500  1645442651      0           13\n",
              "4  27.140625  1645442651      0           13"
            ],
            "text/html": [
              "\n",
              "  <div id=\"df-61eaa8bc-f576-42e9-99b6-4b4202cdc58e\">\n",
              "    <div class=\"colab-df-container\">\n",
              "      <div>\n",
              "<style scoped>\n",
              "    .dataframe tbody tr th:only-of-type {\n",
              "        vertical-align: middle;\n",
              "    }\n",
              "\n",
              "    .dataframe tbody tr th {\n",
              "        vertical-align: top;\n",
              "    }\n",
              "\n",
              "    .dataframe thead th {\n",
              "        text-align: right;\n",
              "    }\n",
              "</style>\n",
              "<table border=\"1\" class=\"dataframe\">\n",
              "  <thead>\n",
              "    <tr style=\"text-align: right;\">\n",
              "      <th></th>\n",
              "      <th>IBI</th>\n",
              "      <th>Time</th>\n",
              "      <th>Label</th>\n",
              "      <th>Participant</th>\n",
              "    </tr>\n",
              "  </thead>\n",
              "  <tbody>\n",
              "    <tr>\n",
              "      <th>0</th>\n",
              "      <td>23.500000</td>\n",
              "      <td>1645442648</td>\n",
              "      <td>0</td>\n",
              "      <td>13</td>\n",
              "    </tr>\n",
              "    <tr>\n",
              "      <th>1</th>\n",
              "      <td>24.390625</td>\n",
              "      <td>1645442649</td>\n",
              "      <td>0</td>\n",
              "      <td>13</td>\n",
              "    </tr>\n",
              "    <tr>\n",
              "      <th>2</th>\n",
              "      <td>25.328125</td>\n",
              "      <td>1645442650</td>\n",
              "      <td>0</td>\n",
              "      <td>13</td>\n",
              "    </tr>\n",
              "    <tr>\n",
              "      <th>3</th>\n",
              "      <td>26.187500</td>\n",
              "      <td>1645442651</td>\n",
              "      <td>0</td>\n",
              "      <td>13</td>\n",
              "    </tr>\n",
              "    <tr>\n",
              "      <th>4</th>\n",
              "      <td>27.140625</td>\n",
              "      <td>1645442651</td>\n",
              "      <td>0</td>\n",
              "      <td>13</td>\n",
              "    </tr>\n",
              "  </tbody>\n",
              "</table>\n",
              "</div>\n",
              "      <button class=\"colab-df-convert\" onclick=\"convertToInteractive('df-61eaa8bc-f576-42e9-99b6-4b4202cdc58e')\"\n",
              "              title=\"Convert this dataframe to an interactive table.\"\n",
              "              style=\"display:none;\">\n",
              "        \n",
              "  <svg xmlns=\"http://www.w3.org/2000/svg\" height=\"24px\"viewBox=\"0 0 24 24\"\n",
              "       width=\"24px\">\n",
              "    <path d=\"M0 0h24v24H0V0z\" fill=\"none\"/>\n",
              "    <path d=\"M18.56 5.44l.94 2.06.94-2.06 2.06-.94-2.06-.94-.94-2.06-.94 2.06-2.06.94zm-11 1L8.5 8.5l.94-2.06 2.06-.94-2.06-.94L8.5 2.5l-.94 2.06-2.06.94zm10 10l.94 2.06.94-2.06 2.06-.94-2.06-.94-.94-2.06-.94 2.06-2.06.94z\"/><path d=\"M17.41 7.96l-1.37-1.37c-.4-.4-.92-.59-1.43-.59-.52 0-1.04.2-1.43.59L10.3 9.45l-7.72 7.72c-.78.78-.78 2.05 0 2.83L4 21.41c.39.39.9.59 1.41.59.51 0 1.02-.2 1.41-.59l7.78-7.78 2.81-2.81c.8-.78.8-2.07 0-2.86zM5.41 20L4 18.59l7.72-7.72 1.47 1.35L5.41 20z\"/>\n",
              "  </svg>\n",
              "      </button>\n",
              "      \n",
              "  <style>\n",
              "    .colab-df-container {\n",
              "      display:flex;\n",
              "      flex-wrap:wrap;\n",
              "      gap: 12px;\n",
              "    }\n",
              "\n",
              "    .colab-df-convert {\n",
              "      background-color: #E8F0FE;\n",
              "      border: none;\n",
              "      border-radius: 50%;\n",
              "      cursor: pointer;\n",
              "      display: none;\n",
              "      fill: #1967D2;\n",
              "      height: 32px;\n",
              "      padding: 0 0 0 0;\n",
              "      width: 32px;\n",
              "    }\n",
              "\n",
              "    .colab-df-convert:hover {\n",
              "      background-color: #E2EBFA;\n",
              "      box-shadow: 0px 1px 2px rgba(60, 64, 67, 0.3), 0px 1px 3px 1px rgba(60, 64, 67, 0.15);\n",
              "      fill: #174EA6;\n",
              "    }\n",
              "\n",
              "    [theme=dark] .colab-df-convert {\n",
              "      background-color: #3B4455;\n",
              "      fill: #D2E3FC;\n",
              "    }\n",
              "\n",
              "    [theme=dark] .colab-df-convert:hover {\n",
              "      background-color: #434B5C;\n",
              "      box-shadow: 0px 1px 3px 1px rgba(0, 0, 0, 0.15);\n",
              "      filter: drop-shadow(0px 1px 2px rgba(0, 0, 0, 0.3));\n",
              "      fill: #FFFFFF;\n",
              "    }\n",
              "  </style>\n",
              "\n",
              "      <script>\n",
              "        const buttonEl =\n",
              "          document.querySelector('#df-61eaa8bc-f576-42e9-99b6-4b4202cdc58e button.colab-df-convert');\n",
              "        buttonEl.style.display =\n",
              "          google.colab.kernel.accessAllowed ? 'block' : 'none';\n",
              "\n",
              "        async function convertToInteractive(key) {\n",
              "          const element = document.querySelector('#df-61eaa8bc-f576-42e9-99b6-4b4202cdc58e');\n",
              "          const dataTable =\n",
              "            await google.colab.kernel.invokeFunction('convertToInteractive',\n",
              "                                                     [key], {});\n",
              "          if (!dataTable) return;\n",
              "\n",
              "          const docLinkHtml = 'Like what you see? Visit the ' +\n",
              "            '<a target=\"_blank\" href=https://colab.research.google.com/notebooks/data_table.ipynb>data table notebook</a>'\n",
              "            + ' to learn more about interactive tables.';\n",
              "          element.innerHTML = '';\n",
              "          dataTable['output_type'] = 'display_data';\n",
              "          await google.colab.output.renderOutput(dataTable, element);\n",
              "          const docLink = document.createElement('div');\n",
              "          docLink.innerHTML = docLinkHtml;\n",
              "          element.appendChild(docLink);\n",
              "        }\n",
              "      </script>\n",
              "    </div>\n",
              "  </div>\n",
              "  "
            ]
          },
          "metadata": {},
          "execution_count": 44
        }
      ],
      "source": [
        "df_final = pd.DataFrame()\n",
        "#Copy the IBI and Time column from the original dataframe\n",
        "df_final = df[['IBI', 'Time']].copy()\n",
        "#Attach the label column\n",
        "df_final['Label'] = df_date_and_time['label']\n",
        "# Add the participant number\n",
        "df_final['Participant']= 13\n",
        "df_final.head()"
      ]
    },
    {
      "cell_type": "markdown",
      "id": "6b997742",
      "metadata": {
        "id": "6b997742"
      },
      "source": [
        "#### Rearrange the columns"
      ]
    },
    {
      "cell_type": "code",
      "execution_count": 45,
      "id": "af30c68f",
      "metadata": {
        "id": "af30c68f",
        "outputId": "63664500-2b98-4ab9-d711-3e238a8784f4",
        "colab": {
          "base_uri": "https://localhost:8080/",
          "height": 204
        }
      },
      "outputs": [
        {
          "output_type": "execute_result",
          "data": {
            "text/plain": [
              "   Participant        IBI        Time  Label\n",
              "0           13  23.500000  1645442648      0\n",
              "1           13  24.390625  1645442649      0\n",
              "2           13  25.328125  1645442650      0\n",
              "3           13  26.187500  1645442651      0\n",
              "4           13  27.140625  1645442651      0"
            ],
            "text/html": [
              "\n",
              "  <div id=\"df-c0269a54-87c9-4828-b5fc-b9924b3d8fca\">\n",
              "    <div class=\"colab-df-container\">\n",
              "      <div>\n",
              "<style scoped>\n",
              "    .dataframe tbody tr th:only-of-type {\n",
              "        vertical-align: middle;\n",
              "    }\n",
              "\n",
              "    .dataframe tbody tr th {\n",
              "        vertical-align: top;\n",
              "    }\n",
              "\n",
              "    .dataframe thead th {\n",
              "        text-align: right;\n",
              "    }\n",
              "</style>\n",
              "<table border=\"1\" class=\"dataframe\">\n",
              "  <thead>\n",
              "    <tr style=\"text-align: right;\">\n",
              "      <th></th>\n",
              "      <th>Participant</th>\n",
              "      <th>IBI</th>\n",
              "      <th>Time</th>\n",
              "      <th>Label</th>\n",
              "    </tr>\n",
              "  </thead>\n",
              "  <tbody>\n",
              "    <tr>\n",
              "      <th>0</th>\n",
              "      <td>13</td>\n",
              "      <td>23.500000</td>\n",
              "      <td>1645442648</td>\n",
              "      <td>0</td>\n",
              "    </tr>\n",
              "    <tr>\n",
              "      <th>1</th>\n",
              "      <td>13</td>\n",
              "      <td>24.390625</td>\n",
              "      <td>1645442649</td>\n",
              "      <td>0</td>\n",
              "    </tr>\n",
              "    <tr>\n",
              "      <th>2</th>\n",
              "      <td>13</td>\n",
              "      <td>25.328125</td>\n",
              "      <td>1645442650</td>\n",
              "      <td>0</td>\n",
              "    </tr>\n",
              "    <tr>\n",
              "      <th>3</th>\n",
              "      <td>13</td>\n",
              "      <td>26.187500</td>\n",
              "      <td>1645442651</td>\n",
              "      <td>0</td>\n",
              "    </tr>\n",
              "    <tr>\n",
              "      <th>4</th>\n",
              "      <td>13</td>\n",
              "      <td>27.140625</td>\n",
              "      <td>1645442651</td>\n",
              "      <td>0</td>\n",
              "    </tr>\n",
              "  </tbody>\n",
              "</table>\n",
              "</div>\n",
              "      <button class=\"colab-df-convert\" onclick=\"convertToInteractive('df-c0269a54-87c9-4828-b5fc-b9924b3d8fca')\"\n",
              "              title=\"Convert this dataframe to an interactive table.\"\n",
              "              style=\"display:none;\">\n",
              "        \n",
              "  <svg xmlns=\"http://www.w3.org/2000/svg\" height=\"24px\"viewBox=\"0 0 24 24\"\n",
              "       width=\"24px\">\n",
              "    <path d=\"M0 0h24v24H0V0z\" fill=\"none\"/>\n",
              "    <path d=\"M18.56 5.44l.94 2.06.94-2.06 2.06-.94-2.06-.94-.94-2.06-.94 2.06-2.06.94zm-11 1L8.5 8.5l.94-2.06 2.06-.94-2.06-.94L8.5 2.5l-.94 2.06-2.06.94zm10 10l.94 2.06.94-2.06 2.06-.94-2.06-.94-.94-2.06-.94 2.06-2.06.94z\"/><path d=\"M17.41 7.96l-1.37-1.37c-.4-.4-.92-.59-1.43-.59-.52 0-1.04.2-1.43.59L10.3 9.45l-7.72 7.72c-.78.78-.78 2.05 0 2.83L4 21.41c.39.39.9.59 1.41.59.51 0 1.02-.2 1.41-.59l7.78-7.78 2.81-2.81c.8-.78.8-2.07 0-2.86zM5.41 20L4 18.59l7.72-7.72 1.47 1.35L5.41 20z\"/>\n",
              "  </svg>\n",
              "      </button>\n",
              "      \n",
              "  <style>\n",
              "    .colab-df-container {\n",
              "      display:flex;\n",
              "      flex-wrap:wrap;\n",
              "      gap: 12px;\n",
              "    }\n",
              "\n",
              "    .colab-df-convert {\n",
              "      background-color: #E8F0FE;\n",
              "      border: none;\n",
              "      border-radius: 50%;\n",
              "      cursor: pointer;\n",
              "      display: none;\n",
              "      fill: #1967D2;\n",
              "      height: 32px;\n",
              "      padding: 0 0 0 0;\n",
              "      width: 32px;\n",
              "    }\n",
              "\n",
              "    .colab-df-convert:hover {\n",
              "      background-color: #E2EBFA;\n",
              "      box-shadow: 0px 1px 2px rgba(60, 64, 67, 0.3), 0px 1px 3px 1px rgba(60, 64, 67, 0.15);\n",
              "      fill: #174EA6;\n",
              "    }\n",
              "\n",
              "    [theme=dark] .colab-df-convert {\n",
              "      background-color: #3B4455;\n",
              "      fill: #D2E3FC;\n",
              "    }\n",
              "\n",
              "    [theme=dark] .colab-df-convert:hover {\n",
              "      background-color: #434B5C;\n",
              "      box-shadow: 0px 1px 3px 1px rgba(0, 0, 0, 0.15);\n",
              "      filter: drop-shadow(0px 1px 2px rgba(0, 0, 0, 0.3));\n",
              "      fill: #FFFFFF;\n",
              "    }\n",
              "  </style>\n",
              "\n",
              "      <script>\n",
              "        const buttonEl =\n",
              "          document.querySelector('#df-c0269a54-87c9-4828-b5fc-b9924b3d8fca button.colab-df-convert');\n",
              "        buttonEl.style.display =\n",
              "          google.colab.kernel.accessAllowed ? 'block' : 'none';\n",
              "\n",
              "        async function convertToInteractive(key) {\n",
              "          const element = document.querySelector('#df-c0269a54-87c9-4828-b5fc-b9924b3d8fca');\n",
              "          const dataTable =\n",
              "            await google.colab.kernel.invokeFunction('convertToInteractive',\n",
              "                                                     [key], {});\n",
              "          if (!dataTable) return;\n",
              "\n",
              "          const docLinkHtml = 'Like what you see? Visit the ' +\n",
              "            '<a target=\"_blank\" href=https://colab.research.google.com/notebooks/data_table.ipynb>data table notebook</a>'\n",
              "            + ' to learn more about interactive tables.';\n",
              "          element.innerHTML = '';\n",
              "          dataTable['output_type'] = 'display_data';\n",
              "          await google.colab.output.renderOutput(dataTable, element);\n",
              "          const docLink = document.createElement('div');\n",
              "          docLink.innerHTML = docLinkHtml;\n",
              "          element.appendChild(docLink);\n",
              "        }\n",
              "      </script>\n",
              "    </div>\n",
              "  </div>\n",
              "  "
            ]
          },
          "metadata": {},
          "execution_count": 45
        }
      ],
      "source": [
        "cols = ['Participant', 'IBI', 'Time', 'Label']\n",
        "df_final = df_final[cols]\n",
        "df_final.head()"
      ]
    },
    {
      "cell_type": "markdown",
      "id": "82eee5e6",
      "metadata": {
        "id": "82eee5e6"
      },
      "source": [
        "#### Export the new dataset as csv"
      ]
    },
    {
      "cell_type": "code",
      "execution_count": 46,
      "id": "bab3113e",
      "metadata": {
        "id": "bab3113e"
      },
      "outputs": [],
      "source": [
        "df_final.to_csv('https://raw.githubusercontent.com/Enadiakhere/CE888-2023/main/CleanedData/IBIData/IBI13processed.csv', index=False)"
      ]
    },
    {
      "cell_type": "markdown",
      "id": "a1d26c89",
      "metadata": {
        "id": "a1d26c89"
      },
      "source": [
        "## Model Building"
      ]
    },
    {
      "cell_type": "markdown",
      "id": "03f1fcda",
      "metadata": {
        "id": "03f1fcda"
      },
      "source": [
        "#### Import the required datasets"
      ]
    },
    {
      "cell_type": "code",
      "execution_count": 47,
      "id": "e12f6d3e",
      "metadata": {
        "id": "e12f6d3e"
      },
      "outputs": [],
      "source": [
        "#Import each instance of data\n",
        "df1=pd.read_csv('https://raw.githubusercontent.com/Enadiakhere/CE888-2023/main/CleanedData/IBIData/IBI01processed.csv')\n",
        "df2=pd.read_csv('https://raw.githubusercontent.com/Enadiakhere/CE888-2023/main/CleanedData/IBIData/IBI25processed.csv')\n",
        "df3=pd.read_csv('https://raw.githubusercontent.com/Enadiakhere/CE888-2023/main/CleanedData/IBIData/IBI27processed.csv')\n",
        "df4=pd.read_csv('https://raw.githubusercontent.com/Enadiakhere/CE888-2023/main/CleanedData/IBIData/IBI33processed.csv')\n",
        "merged_df=pd.concat ([df1, df2, df3, df4])"
      ]
    },
    {
      "cell_type": "markdown",
      "id": "925b4dc2",
      "metadata": {
        "id": "925b4dc2"
      },
      "source": [
        "#### Combine the entire datasets into one"
      ]
    },
    {
      "cell_type": "code",
      "execution_count": 48,
      "id": "52347787",
      "metadata": {
        "id": "52347787",
        "outputId": "a088dbc7-d18e-44fc-e4ff-320f0fd4ac98",
        "colab": {
          "base_uri": "https://localhost:8080/",
          "height": 204
        }
      },
      "outputs": [
        {
          "output_type": "execute_result",
          "data": {
            "text/plain": [
              "   Participant        IBI        Time  Label\n",
              "0            1  35.484375  1644226062      0\n",
              "1            1  36.343750  1644226063      0\n",
              "2            1  37.296875  1644226064      0\n",
              "3            1  38.187500  1644226065      0\n",
              "4            1  39.046875  1644226065      0"
            ],
            "text/html": [
              "\n",
              "  <div id=\"df-8ed1a4c7-77fe-46f7-a4f4-703a8e29e0b2\">\n",
              "    <div class=\"colab-df-container\">\n",
              "      <div>\n",
              "<style scoped>\n",
              "    .dataframe tbody tr th:only-of-type {\n",
              "        vertical-align: middle;\n",
              "    }\n",
              "\n",
              "    .dataframe tbody tr th {\n",
              "        vertical-align: top;\n",
              "    }\n",
              "\n",
              "    .dataframe thead th {\n",
              "        text-align: right;\n",
              "    }\n",
              "</style>\n",
              "<table border=\"1\" class=\"dataframe\">\n",
              "  <thead>\n",
              "    <tr style=\"text-align: right;\">\n",
              "      <th></th>\n",
              "      <th>Participant</th>\n",
              "      <th>IBI</th>\n",
              "      <th>Time</th>\n",
              "      <th>Label</th>\n",
              "    </tr>\n",
              "  </thead>\n",
              "  <tbody>\n",
              "    <tr>\n",
              "      <th>0</th>\n",
              "      <td>1</td>\n",
              "      <td>35.484375</td>\n",
              "      <td>1644226062</td>\n",
              "      <td>0</td>\n",
              "    </tr>\n",
              "    <tr>\n",
              "      <th>1</th>\n",
              "      <td>1</td>\n",
              "      <td>36.343750</td>\n",
              "      <td>1644226063</td>\n",
              "      <td>0</td>\n",
              "    </tr>\n",
              "    <tr>\n",
              "      <th>2</th>\n",
              "      <td>1</td>\n",
              "      <td>37.296875</td>\n",
              "      <td>1644226064</td>\n",
              "      <td>0</td>\n",
              "    </tr>\n",
              "    <tr>\n",
              "      <th>3</th>\n",
              "      <td>1</td>\n",
              "      <td>38.187500</td>\n",
              "      <td>1644226065</td>\n",
              "      <td>0</td>\n",
              "    </tr>\n",
              "    <tr>\n",
              "      <th>4</th>\n",
              "      <td>1</td>\n",
              "      <td>39.046875</td>\n",
              "      <td>1644226065</td>\n",
              "      <td>0</td>\n",
              "    </tr>\n",
              "  </tbody>\n",
              "</table>\n",
              "</div>\n",
              "      <button class=\"colab-df-convert\" onclick=\"convertToInteractive('df-8ed1a4c7-77fe-46f7-a4f4-703a8e29e0b2')\"\n",
              "              title=\"Convert this dataframe to an interactive table.\"\n",
              "              style=\"display:none;\">\n",
              "        \n",
              "  <svg xmlns=\"http://www.w3.org/2000/svg\" height=\"24px\"viewBox=\"0 0 24 24\"\n",
              "       width=\"24px\">\n",
              "    <path d=\"M0 0h24v24H0V0z\" fill=\"none\"/>\n",
              "    <path d=\"M18.56 5.44l.94 2.06.94-2.06 2.06-.94-2.06-.94-.94-2.06-.94 2.06-2.06.94zm-11 1L8.5 8.5l.94-2.06 2.06-.94-2.06-.94L8.5 2.5l-.94 2.06-2.06.94zm10 10l.94 2.06.94-2.06 2.06-.94-2.06-.94-.94-2.06-.94 2.06-2.06.94z\"/><path d=\"M17.41 7.96l-1.37-1.37c-.4-.4-.92-.59-1.43-.59-.52 0-1.04.2-1.43.59L10.3 9.45l-7.72 7.72c-.78.78-.78 2.05 0 2.83L4 21.41c.39.39.9.59 1.41.59.51 0 1.02-.2 1.41-.59l7.78-7.78 2.81-2.81c.8-.78.8-2.07 0-2.86zM5.41 20L4 18.59l7.72-7.72 1.47 1.35L5.41 20z\"/>\n",
              "  </svg>\n",
              "      </button>\n",
              "      \n",
              "  <style>\n",
              "    .colab-df-container {\n",
              "      display:flex;\n",
              "      flex-wrap:wrap;\n",
              "      gap: 12px;\n",
              "    }\n",
              "\n",
              "    .colab-df-convert {\n",
              "      background-color: #E8F0FE;\n",
              "      border: none;\n",
              "      border-radius: 50%;\n",
              "      cursor: pointer;\n",
              "      display: none;\n",
              "      fill: #1967D2;\n",
              "      height: 32px;\n",
              "      padding: 0 0 0 0;\n",
              "      width: 32px;\n",
              "    }\n",
              "\n",
              "    .colab-df-convert:hover {\n",
              "      background-color: #E2EBFA;\n",
              "      box-shadow: 0px 1px 2px rgba(60, 64, 67, 0.3), 0px 1px 3px 1px rgba(60, 64, 67, 0.15);\n",
              "      fill: #174EA6;\n",
              "    }\n",
              "\n",
              "    [theme=dark] .colab-df-convert {\n",
              "      background-color: #3B4455;\n",
              "      fill: #D2E3FC;\n",
              "    }\n",
              "\n",
              "    [theme=dark] .colab-df-convert:hover {\n",
              "      background-color: #434B5C;\n",
              "      box-shadow: 0px 1px 3px 1px rgba(0, 0, 0, 0.15);\n",
              "      filter: drop-shadow(0px 1px 2px rgba(0, 0, 0, 0.3));\n",
              "      fill: #FFFFFF;\n",
              "    }\n",
              "  </style>\n",
              "\n",
              "      <script>\n",
              "        const buttonEl =\n",
              "          document.querySelector('#df-8ed1a4c7-77fe-46f7-a4f4-703a8e29e0b2 button.colab-df-convert');\n",
              "        buttonEl.style.display =\n",
              "          google.colab.kernel.accessAllowed ? 'block' : 'none';\n",
              "\n",
              "        async function convertToInteractive(key) {\n",
              "          const element = document.querySelector('#df-8ed1a4c7-77fe-46f7-a4f4-703a8e29e0b2');\n",
              "          const dataTable =\n",
              "            await google.colab.kernel.invokeFunction('convertToInteractive',\n",
              "                                                     [key], {});\n",
              "          if (!dataTable) return;\n",
              "\n",
              "          const docLinkHtml = 'Like what you see? Visit the ' +\n",
              "            '<a target=\"_blank\" href=https://colab.research.google.com/notebooks/data_table.ipynb>data table notebook</a>'\n",
              "            + ' to learn more about interactive tables.';\n",
              "          element.innerHTML = '';\n",
              "          dataTable['output_type'] = 'display_data';\n",
              "          await google.colab.output.renderOutput(dataTable, element);\n",
              "          const docLink = document.createElement('div');\n",
              "          docLink.innerHTML = docLinkHtml;\n",
              "          element.appendChild(docLink);\n",
              "        }\n",
              "      </script>\n",
              "    </div>\n",
              "  </div>\n",
              "  "
            ]
          },
          "metadata": {},
          "execution_count": 48
        }
      ],
      "source": [
        "dfComb = pd.concat([df1,df2], axis=0, ignore_index=True)\n",
        "dfComb.head()"
      ]
    },
    {
      "cell_type": "markdown",
      "id": "1afbef86",
      "metadata": {
        "id": "1afbef86"
      },
      "source": [
        "#### Export the new dataset"
      ]
    },
    {
      "cell_type": "code",
      "execution_count": 49,
      "id": "9b2f12c4",
      "metadata": {
        "id": "9b2f12c4"
      },
      "outputs": [],
      "source": [
        "dfComb.to_csv('https://raw.githubusercontent.com/Enadiakhere/CE888-2023/main/CleanedData/IBIData/finaldata.csv', index=False)"
      ]
    },
    {
      "cell_type": "markdown",
      "id": "05ebf9b0",
      "metadata": {
        "id": "05ebf9b0"
      },
      "source": [
        "## Import dataset to model if using a fresh data"
      ]
    },
    {
      "cell_type": "code",
      "execution_count": 50,
      "id": "31eea9d1",
      "metadata": {
        "id": "31eea9d1",
        "outputId": "ec4e0fc4-15d9-45be-9336-79cc2de41bd0",
        "colab": {
          "base_uri": "https://localhost:8080/",
          "height": 204
        }
      },
      "outputs": [
        {
          "output_type": "execute_result",
          "data": {
            "text/plain": [
              "   Participant        IBI        Time  Label\n",
              "0            1  35.484375  1644226062      0\n",
              "1            1  36.343750  1644226063      0\n",
              "2            1  37.296875  1644226064      0\n",
              "3            1  38.187500  1644226065      0\n",
              "4            1  39.046875  1644226065      0"
            ],
            "text/html": [
              "\n",
              "  <div id=\"df-c1cf2a48-6a2e-4e3f-8e43-eeae86f56ec9\">\n",
              "    <div class=\"colab-df-container\">\n",
              "      <div>\n",
              "<style scoped>\n",
              "    .dataframe tbody tr th:only-of-type {\n",
              "        vertical-align: middle;\n",
              "    }\n",
              "\n",
              "    .dataframe tbody tr th {\n",
              "        vertical-align: top;\n",
              "    }\n",
              "\n",
              "    .dataframe thead th {\n",
              "        text-align: right;\n",
              "    }\n",
              "</style>\n",
              "<table border=\"1\" class=\"dataframe\">\n",
              "  <thead>\n",
              "    <tr style=\"text-align: right;\">\n",
              "      <th></th>\n",
              "      <th>Participant</th>\n",
              "      <th>IBI</th>\n",
              "      <th>Time</th>\n",
              "      <th>Label</th>\n",
              "    </tr>\n",
              "  </thead>\n",
              "  <tbody>\n",
              "    <tr>\n",
              "      <th>0</th>\n",
              "      <td>1</td>\n",
              "      <td>35.484375</td>\n",
              "      <td>1644226062</td>\n",
              "      <td>0</td>\n",
              "    </tr>\n",
              "    <tr>\n",
              "      <th>1</th>\n",
              "      <td>1</td>\n",
              "      <td>36.343750</td>\n",
              "      <td>1644226063</td>\n",
              "      <td>0</td>\n",
              "    </tr>\n",
              "    <tr>\n",
              "      <th>2</th>\n",
              "      <td>1</td>\n",
              "      <td>37.296875</td>\n",
              "      <td>1644226064</td>\n",
              "      <td>0</td>\n",
              "    </tr>\n",
              "    <tr>\n",
              "      <th>3</th>\n",
              "      <td>1</td>\n",
              "      <td>38.187500</td>\n",
              "      <td>1644226065</td>\n",
              "      <td>0</td>\n",
              "    </tr>\n",
              "    <tr>\n",
              "      <th>4</th>\n",
              "      <td>1</td>\n",
              "      <td>39.046875</td>\n",
              "      <td>1644226065</td>\n",
              "      <td>0</td>\n",
              "    </tr>\n",
              "  </tbody>\n",
              "</table>\n",
              "</div>\n",
              "      <button class=\"colab-df-convert\" onclick=\"convertToInteractive('df-c1cf2a48-6a2e-4e3f-8e43-eeae86f56ec9')\"\n",
              "              title=\"Convert this dataframe to an interactive table.\"\n",
              "              style=\"display:none;\">\n",
              "        \n",
              "  <svg xmlns=\"http://www.w3.org/2000/svg\" height=\"24px\"viewBox=\"0 0 24 24\"\n",
              "       width=\"24px\">\n",
              "    <path d=\"M0 0h24v24H0V0z\" fill=\"none\"/>\n",
              "    <path d=\"M18.56 5.44l.94 2.06.94-2.06 2.06-.94-2.06-.94-.94-2.06-.94 2.06-2.06.94zm-11 1L8.5 8.5l.94-2.06 2.06-.94-2.06-.94L8.5 2.5l-.94 2.06-2.06.94zm10 10l.94 2.06.94-2.06 2.06-.94-2.06-.94-.94-2.06-.94 2.06-2.06.94z\"/><path d=\"M17.41 7.96l-1.37-1.37c-.4-.4-.92-.59-1.43-.59-.52 0-1.04.2-1.43.59L10.3 9.45l-7.72 7.72c-.78.78-.78 2.05 0 2.83L4 21.41c.39.39.9.59 1.41.59.51 0 1.02-.2 1.41-.59l7.78-7.78 2.81-2.81c.8-.78.8-2.07 0-2.86zM5.41 20L4 18.59l7.72-7.72 1.47 1.35L5.41 20z\"/>\n",
              "  </svg>\n",
              "      </button>\n",
              "      \n",
              "  <style>\n",
              "    .colab-df-container {\n",
              "      display:flex;\n",
              "      flex-wrap:wrap;\n",
              "      gap: 12px;\n",
              "    }\n",
              "\n",
              "    .colab-df-convert {\n",
              "      background-color: #E8F0FE;\n",
              "      border: none;\n",
              "      border-radius: 50%;\n",
              "      cursor: pointer;\n",
              "      display: none;\n",
              "      fill: #1967D2;\n",
              "      height: 32px;\n",
              "      padding: 0 0 0 0;\n",
              "      width: 32px;\n",
              "    }\n",
              "\n",
              "    .colab-df-convert:hover {\n",
              "      background-color: #E2EBFA;\n",
              "      box-shadow: 0px 1px 2px rgba(60, 64, 67, 0.3), 0px 1px 3px 1px rgba(60, 64, 67, 0.15);\n",
              "      fill: #174EA6;\n",
              "    }\n",
              "\n",
              "    [theme=dark] .colab-df-convert {\n",
              "      background-color: #3B4455;\n",
              "      fill: #D2E3FC;\n",
              "    }\n",
              "\n",
              "    [theme=dark] .colab-df-convert:hover {\n",
              "      background-color: #434B5C;\n",
              "      box-shadow: 0px 1px 3px 1px rgba(0, 0, 0, 0.15);\n",
              "      filter: drop-shadow(0px 1px 2px rgba(0, 0, 0, 0.3));\n",
              "      fill: #FFFFFF;\n",
              "    }\n",
              "  </style>\n",
              "\n",
              "      <script>\n",
              "        const buttonEl =\n",
              "          document.querySelector('#df-c1cf2a48-6a2e-4e3f-8e43-eeae86f56ec9 button.colab-df-convert');\n",
              "        buttonEl.style.display =\n",
              "          google.colab.kernel.accessAllowed ? 'block' : 'none';\n",
              "\n",
              "        async function convertToInteractive(key) {\n",
              "          const element = document.querySelector('#df-c1cf2a48-6a2e-4e3f-8e43-eeae86f56ec9');\n",
              "          const dataTable =\n",
              "            await google.colab.kernel.invokeFunction('convertToInteractive',\n",
              "                                                     [key], {});\n",
              "          if (!dataTable) return;\n",
              "\n",
              "          const docLinkHtml = 'Like what you see? Visit the ' +\n",
              "            '<a target=\"_blank\" href=https://colab.research.google.com/notebooks/data_table.ipynb>data table notebook</a>'\n",
              "            + ' to learn more about interactive tables.';\n",
              "          element.innerHTML = '';\n",
              "          dataTable['output_type'] = 'display_data';\n",
              "          await google.colab.output.renderOutput(dataTable, element);\n",
              "          const docLink = document.createElement('div');\n",
              "          docLink.innerHTML = docLinkHtml;\n",
              "          element.appendChild(docLink);\n",
              "        }\n",
              "      </script>\n",
              "    </div>\n",
              "  </div>\n",
              "  "
            ]
          },
          "metadata": {},
          "execution_count": 50
        }
      ],
      "source": [
        "df2 = pd.read_csv(\"https://raw.githubusercontent.com/Enadiakhere/CE888-2023/main/CleanedData/IBIData/finaldata.csv\")\n",
        "df2.head()"
      ]
    },
    {
      "cell_type": "markdown",
      "id": "04483632",
      "metadata": {
        "id": "04483632"
      },
      "source": [
        "### Import some more libraries"
      ]
    },
    {
      "cell_type": "code",
      "execution_count": 51,
      "id": "e1449d44",
      "metadata": {
        "id": "e1449d44"
      },
      "outputs": [],
      "source": [
        "import numpy as np\n",
        "import seaborn as sns\n",
        "from matplotlib import pyplot as plt\n",
        "import matplotlib\n",
        "%matplotlib inline\n",
        "import warnings\n",
        "warnings.filterwarnings('ignore')"
      ]
    },
    {
      "cell_type": "markdown",
      "id": "2a5071ce",
      "metadata": {
        "id": "2a5071ce"
      },
      "source": [
        "#### Make a copy of the dataset"
      ]
    },
    {
      "cell_type": "code",
      "execution_count": 52,
      "id": "3655f909",
      "metadata": {
        "id": "3655f909",
        "outputId": "692976b4-016a-4dc4-e6a0-f9f63203174e",
        "colab": {
          "base_uri": "https://localhost:8080/",
          "height": 204
        }
      },
      "outputs": [
        {
          "output_type": "execute_result",
          "data": {
            "text/plain": [
              "   Participant        IBI        Time  Label\n",
              "0            1  35.484375  1644226062      0\n",
              "1            1  36.343750  1644226063      0\n",
              "2            1  37.296875  1644226064      0\n",
              "3            1  38.187500  1644226065      0\n",
              "4            1  39.046875  1644226065      0"
            ],
            "text/html": [
              "\n",
              "  <div id=\"df-232da835-4a54-429d-9f25-3c2462da2e68\">\n",
              "    <div class=\"colab-df-container\">\n",
              "      <div>\n",
              "<style scoped>\n",
              "    .dataframe tbody tr th:only-of-type {\n",
              "        vertical-align: middle;\n",
              "    }\n",
              "\n",
              "    .dataframe tbody tr th {\n",
              "        vertical-align: top;\n",
              "    }\n",
              "\n",
              "    .dataframe thead th {\n",
              "        text-align: right;\n",
              "    }\n",
              "</style>\n",
              "<table border=\"1\" class=\"dataframe\">\n",
              "  <thead>\n",
              "    <tr style=\"text-align: right;\">\n",
              "      <th></th>\n",
              "      <th>Participant</th>\n",
              "      <th>IBI</th>\n",
              "      <th>Time</th>\n",
              "      <th>Label</th>\n",
              "    </tr>\n",
              "  </thead>\n",
              "  <tbody>\n",
              "    <tr>\n",
              "      <th>0</th>\n",
              "      <td>1</td>\n",
              "      <td>35.484375</td>\n",
              "      <td>1644226062</td>\n",
              "      <td>0</td>\n",
              "    </tr>\n",
              "    <tr>\n",
              "      <th>1</th>\n",
              "      <td>1</td>\n",
              "      <td>36.343750</td>\n",
              "      <td>1644226063</td>\n",
              "      <td>0</td>\n",
              "    </tr>\n",
              "    <tr>\n",
              "      <th>2</th>\n",
              "      <td>1</td>\n",
              "      <td>37.296875</td>\n",
              "      <td>1644226064</td>\n",
              "      <td>0</td>\n",
              "    </tr>\n",
              "    <tr>\n",
              "      <th>3</th>\n",
              "      <td>1</td>\n",
              "      <td>38.187500</td>\n",
              "      <td>1644226065</td>\n",
              "      <td>0</td>\n",
              "    </tr>\n",
              "    <tr>\n",
              "      <th>4</th>\n",
              "      <td>1</td>\n",
              "      <td>39.046875</td>\n",
              "      <td>1644226065</td>\n",
              "      <td>0</td>\n",
              "    </tr>\n",
              "  </tbody>\n",
              "</table>\n",
              "</div>\n",
              "      <button class=\"colab-df-convert\" onclick=\"convertToInteractive('df-232da835-4a54-429d-9f25-3c2462da2e68')\"\n",
              "              title=\"Convert this dataframe to an interactive table.\"\n",
              "              style=\"display:none;\">\n",
              "        \n",
              "  <svg xmlns=\"http://www.w3.org/2000/svg\" height=\"24px\"viewBox=\"0 0 24 24\"\n",
              "       width=\"24px\">\n",
              "    <path d=\"M0 0h24v24H0V0z\" fill=\"none\"/>\n",
              "    <path d=\"M18.56 5.44l.94 2.06.94-2.06 2.06-.94-2.06-.94-.94-2.06-.94 2.06-2.06.94zm-11 1L8.5 8.5l.94-2.06 2.06-.94-2.06-.94L8.5 2.5l-.94 2.06-2.06.94zm10 10l.94 2.06.94-2.06 2.06-.94-2.06-.94-.94-2.06-.94 2.06-2.06.94z\"/><path d=\"M17.41 7.96l-1.37-1.37c-.4-.4-.92-.59-1.43-.59-.52 0-1.04.2-1.43.59L10.3 9.45l-7.72 7.72c-.78.78-.78 2.05 0 2.83L4 21.41c.39.39.9.59 1.41.59.51 0 1.02-.2 1.41-.59l7.78-7.78 2.81-2.81c.8-.78.8-2.07 0-2.86zM5.41 20L4 18.59l7.72-7.72 1.47 1.35L5.41 20z\"/>\n",
              "  </svg>\n",
              "      </button>\n",
              "      \n",
              "  <style>\n",
              "    .colab-df-container {\n",
              "      display:flex;\n",
              "      flex-wrap:wrap;\n",
              "      gap: 12px;\n",
              "    }\n",
              "\n",
              "    .colab-df-convert {\n",
              "      background-color: #E8F0FE;\n",
              "      border: none;\n",
              "      border-radius: 50%;\n",
              "      cursor: pointer;\n",
              "      display: none;\n",
              "      fill: #1967D2;\n",
              "      height: 32px;\n",
              "      padding: 0 0 0 0;\n",
              "      width: 32px;\n",
              "    }\n",
              "\n",
              "    .colab-df-convert:hover {\n",
              "      background-color: #E2EBFA;\n",
              "      box-shadow: 0px 1px 2px rgba(60, 64, 67, 0.3), 0px 1px 3px 1px rgba(60, 64, 67, 0.15);\n",
              "      fill: #174EA6;\n",
              "    }\n",
              "\n",
              "    [theme=dark] .colab-df-convert {\n",
              "      background-color: #3B4455;\n",
              "      fill: #D2E3FC;\n",
              "    }\n",
              "\n",
              "    [theme=dark] .colab-df-convert:hover {\n",
              "      background-color: #434B5C;\n",
              "      box-shadow: 0px 1px 3px 1px rgba(0, 0, 0, 0.15);\n",
              "      filter: drop-shadow(0px 1px 2px rgba(0, 0, 0, 0.3));\n",
              "      fill: #FFFFFF;\n",
              "    }\n",
              "  </style>\n",
              "\n",
              "      <script>\n",
              "        const buttonEl =\n",
              "          document.querySelector('#df-232da835-4a54-429d-9f25-3c2462da2e68 button.colab-df-convert');\n",
              "        buttonEl.style.display =\n",
              "          google.colab.kernel.accessAllowed ? 'block' : 'none';\n",
              "\n",
              "        async function convertToInteractive(key) {\n",
              "          const element = document.querySelector('#df-232da835-4a54-429d-9f25-3c2462da2e68');\n",
              "          const dataTable =\n",
              "            await google.colab.kernel.invokeFunction('convertToInteractive',\n",
              "                                                     [key], {});\n",
              "          if (!dataTable) return;\n",
              "\n",
              "          const docLinkHtml = 'Like what you see? Visit the ' +\n",
              "            '<a target=\"_blank\" href=https://colab.research.google.com/notebooks/data_table.ipynb>data table notebook</a>'\n",
              "            + ' to learn more about interactive tables.';\n",
              "          element.innerHTML = '';\n",
              "          dataTable['output_type'] = 'display_data';\n",
              "          await google.colab.output.renderOutput(dataTable, element);\n",
              "          const docLink = document.createElement('div');\n",
              "          docLink.innerHTML = docLinkHtml;\n",
              "          element.appendChild(docLink);\n",
              "        }\n",
              "      </script>\n",
              "    </div>\n",
              "  </div>\n",
              "  "
            ]
          },
          "metadata": {},
          "execution_count": 52
        }
      ],
      "source": [
        "df = df2\n",
        "df.head()"
      ]
    },
    {
      "cell_type": "markdown",
      "id": "ff532c7b",
      "metadata": {
        "id": "ff532c7b"
      },
      "source": [
        "#### Find missing values"
      ]
    },
    {
      "cell_type": "code",
      "execution_count": 53,
      "id": "c81e3e58",
      "metadata": {
        "id": "c81e3e58",
        "outputId": "9a1aabe4-8240-4e15-c9e9-a8e0c13c29a7",
        "colab": {
          "base_uri": "https://localhost:8080/"
        }
      },
      "outputs": [
        {
          "output_type": "execute_result",
          "data": {
            "text/plain": [
              "Participant    0\n",
              "IBI            0\n",
              "Time           0\n",
              "Label          0\n",
              "dtype: int64"
            ]
          },
          "metadata": {},
          "execution_count": 53
        }
      ],
      "source": [
        "# find the null values\n",
        "df2.isnull().sum()"
      ]
    },
    {
      "cell_type": "markdown",
      "id": "6ecbfaa8",
      "metadata": {
        "id": "6ecbfaa8"
      },
      "source": [
        "#### Drop unnecessary columns\n",
        "\n",
        "The participant column will not contribute any meaning to the modelling so we need to remove it."
      ]
    },
    {
      "cell_type": "code",
      "execution_count": 54,
      "id": "10f95c5a",
      "metadata": {
        "id": "10f95c5a",
        "outputId": "d98b2e64-6bce-4c2a-f0a6-e2ec477675a9",
        "colab": {
          "base_uri": "https://localhost:8080/",
          "height": 204
        }
      },
      "outputs": [
        {
          "output_type": "execute_result",
          "data": {
            "text/plain": [
              "         IBI        Time  Label\n",
              "0  35.484375  1644226062      0\n",
              "1  36.343750  1644226063      0\n",
              "2  37.296875  1644226064      0\n",
              "3  38.187500  1644226065      0\n",
              "4  39.046875  1644226065      0"
            ],
            "text/html": [
              "\n",
              "  <div id=\"df-5b97581b-d895-42d7-a1dd-5874de1e329c\">\n",
              "    <div class=\"colab-df-container\">\n",
              "      <div>\n",
              "<style scoped>\n",
              "    .dataframe tbody tr th:only-of-type {\n",
              "        vertical-align: middle;\n",
              "    }\n",
              "\n",
              "    .dataframe tbody tr th {\n",
              "        vertical-align: top;\n",
              "    }\n",
              "\n",
              "    .dataframe thead th {\n",
              "        text-align: right;\n",
              "    }\n",
              "</style>\n",
              "<table border=\"1\" class=\"dataframe\">\n",
              "  <thead>\n",
              "    <tr style=\"text-align: right;\">\n",
              "      <th></th>\n",
              "      <th>IBI</th>\n",
              "      <th>Time</th>\n",
              "      <th>Label</th>\n",
              "    </tr>\n",
              "  </thead>\n",
              "  <tbody>\n",
              "    <tr>\n",
              "      <th>0</th>\n",
              "      <td>35.484375</td>\n",
              "      <td>1644226062</td>\n",
              "      <td>0</td>\n",
              "    </tr>\n",
              "    <tr>\n",
              "      <th>1</th>\n",
              "      <td>36.343750</td>\n",
              "      <td>1644226063</td>\n",
              "      <td>0</td>\n",
              "    </tr>\n",
              "    <tr>\n",
              "      <th>2</th>\n",
              "      <td>37.296875</td>\n",
              "      <td>1644226064</td>\n",
              "      <td>0</td>\n",
              "    </tr>\n",
              "    <tr>\n",
              "      <th>3</th>\n",
              "      <td>38.187500</td>\n",
              "      <td>1644226065</td>\n",
              "      <td>0</td>\n",
              "    </tr>\n",
              "    <tr>\n",
              "      <th>4</th>\n",
              "      <td>39.046875</td>\n",
              "      <td>1644226065</td>\n",
              "      <td>0</td>\n",
              "    </tr>\n",
              "  </tbody>\n",
              "</table>\n",
              "</div>\n",
              "      <button class=\"colab-df-convert\" onclick=\"convertToInteractive('df-5b97581b-d895-42d7-a1dd-5874de1e329c')\"\n",
              "              title=\"Convert this dataframe to an interactive table.\"\n",
              "              style=\"display:none;\">\n",
              "        \n",
              "  <svg xmlns=\"http://www.w3.org/2000/svg\" height=\"24px\"viewBox=\"0 0 24 24\"\n",
              "       width=\"24px\">\n",
              "    <path d=\"M0 0h24v24H0V0z\" fill=\"none\"/>\n",
              "    <path d=\"M18.56 5.44l.94 2.06.94-2.06 2.06-.94-2.06-.94-.94-2.06-.94 2.06-2.06.94zm-11 1L8.5 8.5l.94-2.06 2.06-.94-2.06-.94L8.5 2.5l-.94 2.06-2.06.94zm10 10l.94 2.06.94-2.06 2.06-.94-2.06-.94-.94-2.06-.94 2.06-2.06.94z\"/><path d=\"M17.41 7.96l-1.37-1.37c-.4-.4-.92-.59-1.43-.59-.52 0-1.04.2-1.43.59L10.3 9.45l-7.72 7.72c-.78.78-.78 2.05 0 2.83L4 21.41c.39.39.9.59 1.41.59.51 0 1.02-.2 1.41-.59l7.78-7.78 2.81-2.81c.8-.78.8-2.07 0-2.86zM5.41 20L4 18.59l7.72-7.72 1.47 1.35L5.41 20z\"/>\n",
              "  </svg>\n",
              "      </button>\n",
              "      \n",
              "  <style>\n",
              "    .colab-df-container {\n",
              "      display:flex;\n",
              "      flex-wrap:wrap;\n",
              "      gap: 12px;\n",
              "    }\n",
              "\n",
              "    .colab-df-convert {\n",
              "      background-color: #E8F0FE;\n",
              "      border: none;\n",
              "      border-radius: 50%;\n",
              "      cursor: pointer;\n",
              "      display: none;\n",
              "      fill: #1967D2;\n",
              "      height: 32px;\n",
              "      padding: 0 0 0 0;\n",
              "      width: 32px;\n",
              "    }\n",
              "\n",
              "    .colab-df-convert:hover {\n",
              "      background-color: #E2EBFA;\n",
              "      box-shadow: 0px 1px 2px rgba(60, 64, 67, 0.3), 0px 1px 3px 1px rgba(60, 64, 67, 0.15);\n",
              "      fill: #174EA6;\n",
              "    }\n",
              "\n",
              "    [theme=dark] .colab-df-convert {\n",
              "      background-color: #3B4455;\n",
              "      fill: #D2E3FC;\n",
              "    }\n",
              "\n",
              "    [theme=dark] .colab-df-convert:hover {\n",
              "      background-color: #434B5C;\n",
              "      box-shadow: 0px 1px 3px 1px rgba(0, 0, 0, 0.15);\n",
              "      filter: drop-shadow(0px 1px 2px rgba(0, 0, 0, 0.3));\n",
              "      fill: #FFFFFF;\n",
              "    }\n",
              "  </style>\n",
              "\n",
              "      <script>\n",
              "        const buttonEl =\n",
              "          document.querySelector('#df-5b97581b-d895-42d7-a1dd-5874de1e329c button.colab-df-convert');\n",
              "        buttonEl.style.display =\n",
              "          google.colab.kernel.accessAllowed ? 'block' : 'none';\n",
              "\n",
              "        async function convertToInteractive(key) {\n",
              "          const element = document.querySelector('#df-5b97581b-d895-42d7-a1dd-5874de1e329c');\n",
              "          const dataTable =\n",
              "            await google.colab.kernel.invokeFunction('convertToInteractive',\n",
              "                                                     [key], {});\n",
              "          if (!dataTable) return;\n",
              "\n",
              "          const docLinkHtml = 'Like what you see? Visit the ' +\n",
              "            '<a target=\"_blank\" href=https://colab.research.google.com/notebooks/data_table.ipynb>data table notebook</a>'\n",
              "            + ' to learn more about interactive tables.';\n",
              "          element.innerHTML = '';\n",
              "          dataTable['output_type'] = 'display_data';\n",
              "          await google.colab.output.renderOutput(dataTable, element);\n",
              "          const docLink = document.createElement('div');\n",
              "          docLink.innerHTML = docLinkHtml;\n",
              "          element.appendChild(docLink);\n",
              "        }\n",
              "      </script>\n",
              "    </div>\n",
              "  </div>\n",
              "  "
            ]
          },
          "metadata": {},
          "execution_count": 54
        }
      ],
      "source": [
        "# drop unnecessary columns\n",
        "cols = ['Participant']\n",
        "df2.drop(columns=cols, axis=1, inplace=True)\n",
        "df2.head()"
      ]
    },
    {
      "cell_type": "markdown",
      "id": "9b6d9117",
      "metadata": {
        "id": "9b6d9117"
      },
      "source": [
        "#### Splitting the data for Training and Testing"
      ]
    },
    {
      "cell_type": "code",
      "execution_count": null,
      "id": "c03254e0",
      "metadata": {
        "id": "c03254e0",
        "outputId": "6aab344f-c376-4cb8-d27b-f08adba9a568"
      },
      "outputs": [
        {
          "data": {
            "text/html": [
              "<div>\n",
              "<style scoped>\n",
              "    .dataframe tbody tr th:only-of-type {\n",
              "        vertical-align: middle;\n",
              "    }\n",
              "\n",
              "    .dataframe tbody tr th {\n",
              "        vertical-align: top;\n",
              "    }\n",
              "\n",
              "    .dataframe thead th {\n",
              "        text-align: right;\n",
              "    }\n",
              "</style>\n",
              "<table border=\"1\" class=\"dataframe\">\n",
              "  <thead>\n",
              "    <tr style=\"text-align: right;\">\n",
              "      <th></th>\n",
              "      <th>HR</th>\n",
              "      <th>Time</th>\n",
              "    </tr>\n",
              "  </thead>\n",
              "  <tbody>\n",
              "    <tr>\n",
              "      <th>0</th>\n",
              "      <td>1.00</td>\n",
              "      <td>1644226072</td>\n",
              "    </tr>\n",
              "    <tr>\n",
              "      <th>1</th>\n",
              "      <td>83.00</td>\n",
              "      <td>1644226073</td>\n",
              "    </tr>\n",
              "    <tr>\n",
              "      <th>2</th>\n",
              "      <td>83.00</td>\n",
              "      <td>1644226156</td>\n",
              "    </tr>\n",
              "    <tr>\n",
              "      <th>3</th>\n",
              "      <td>72.67</td>\n",
              "      <td>1644226239</td>\n",
              "    </tr>\n",
              "    <tr>\n",
              "      <th>4</th>\n",
              "      <td>87.00</td>\n",
              "      <td>1644226312</td>\n",
              "    </tr>\n",
              "  </tbody>\n",
              "</table>\n",
              "</div>"
            ],
            "text/plain": [
              "      HR        Time\n",
              "0   1.00  1644226072\n",
              "1  83.00  1644226073\n",
              "2  83.00  1644226156\n",
              "3  72.67  1644226239\n",
              "4  87.00  1644226312"
            ]
          },
          "execution_count": 35,
          "metadata": {},
          "output_type": "execute_result"
        }
      ],
      "source": [
        "# We need to specify input and output attributes\n",
        "X = df2.drop(columns=['Label'], axis=1)\n",
        "y = df2['Label']\n",
        "X.head()"
      ]
    },
    {
      "cell_type": "markdown",
      "id": "309a23ae",
      "metadata": {
        "id": "309a23ae"
      },
      "source": [
        "#### Split into train and test set set"
      ]
    },
    {
      "cell_type": "code",
      "execution_count": null,
      "id": "7ce75b2f",
      "metadata": {
        "id": "7ce75b2f"
      },
      "outputs": [],
      "source": [
        "from sklearn.model_selection import train_test_split\n",
        "x_train, x_test, y_train, y_test = train_test_split(X, y, test_size=0.25, random_state=42)"
      ]
    },
    {
      "cell_type": "markdown",
      "id": "a47e9d24",
      "metadata": {
        "id": "a47e9d24"
      },
      "source": [
        "#### Our Classification function with cross validation"
      ]
    },
    {
      "cell_type": "code",
      "execution_count": null,
      "id": "1d877fd7",
      "metadata": {
        "id": "1d877fd7"
      },
      "outputs": [],
      "source": [
        "from sklearn.model_selection import cross_val_score\n",
        "def ClassificationModel(model, x, y):\n",
        "    x_train, x_test, y_train, y_test = train_test_split(X, y, test_size=0.25, random_state=42)\n",
        "    model.fit(x_train, y_train)\n",
        "    print(\"Accuracy is\", model.score(x_test, y_test)*100)\n",
        "    # cross validation - it is used for better validation of model\n",
        "    # eg: cv-5, train-4, test-1\n",
        "    score = cross_val_score(model, x, y, cv=5)\n",
        "    print(\"Cross validation is\",np.mean(score)*100)"
      ]
    },
    {
      "cell_type": "markdown",
      "id": "981f8fb3",
      "metadata": {
        "id": "981f8fb3"
      },
      "source": [
        "### Fitting a Logistic Regression Model for classification"
      ]
    },
    {
      "cell_type": "code",
      "execution_count": null,
      "id": "51c3456e",
      "metadata": {
        "scrolled": true,
        "id": "51c3456e",
        "outputId": "1461034e-3678-4606-fb89-33baac3c301f"
      },
      "outputs": [
        {
          "name": "stdout",
          "output_type": "stream",
          "text": [
            "Accuracy is 98.34508121360712\n",
            "Cross validation is 98.03861646350323\n"
          ]
        }
      ],
      "source": [
        "from sklearn.linear_model import LogisticRegression\n",
        "model = LogisticRegression()\n",
        "ClassificationModel(model, X, y)"
      ]
    },
    {
      "cell_type": "markdown",
      "id": "776ffdb5",
      "metadata": {
        "id": "776ffdb5"
      },
      "source": [
        "### Standardized the dataset"
      ]
    },
    {
      "cell_type": "code",
      "execution_count": null,
      "id": "a77292c9",
      "metadata": {
        "id": "a77292c9"
      },
      "outputs": [],
      "source": [
        "#Import the required library\n",
        "from sklearn.preprocessing import StandardScaler"
      ]
    },
    {
      "cell_type": "code",
      "execution_count": null,
      "id": "fc3cbcea",
      "metadata": {
        "id": "fc3cbcea",
        "outputId": "83a68753-3065-453e-a678-e2847dc2fceb"
      },
      "outputs": [
        {
          "data": {
            "text/plain": [
              "array([[-7.38984745, -1.77341282],\n",
              "       [ 0.65109538, -1.77341185],\n",
              "       [ 0.65109538, -1.77333198],\n",
              "       ...,\n",
              "       [ 0.75111686,  0.9974652 ],\n",
              "       [ 0.74719445,  0.99754603],\n",
              "       [ 0.74915566,  0.99762686]])"
            ]
          },
          "execution_count": 39,
          "metadata": {},
          "output_type": "execute_result"
        }
      ],
      "source": [
        "scale= StandardScaler()\n",
        " \n",
        "# let us separate the independent and dependent variables\n",
        "\n",
        "\n",
        "X_data = X\n",
        "target = y\n",
        " \n",
        "# standardization of dependent variables\n",
        "scaled_data = scale.fit_transform(X_data) \n",
        "scaled_data"
      ]
    },
    {
      "cell_type": "markdown",
      "id": "ed75a348",
      "metadata": {
        "id": "ed75a348"
      },
      "source": [
        "#### With Scaled Data"
      ]
    },
    {
      "cell_type": "code",
      "execution_count": null,
      "id": "21bd5678",
      "metadata": {
        "id": "21bd5678",
        "outputId": "106e9ee9-bc60-454d-d29d-b4d6184e6487"
      },
      "outputs": [
        {
          "name": "stdout",
          "output_type": "stream",
          "text": [
            "Accuracy is 98.34508121360712\n",
            "Cross validation is 98.03861646350323\n"
          ]
        }
      ],
      "source": [
        "from sklearn.linear_model import LogisticRegression\n",
        "model = LogisticRegression()\n",
        "ClassificationModel(model, scaled_data, y)"
      ]
    },
    {
      "cell_type": "markdown",
      "id": "6e6ae03f",
      "metadata": {
        "id": "6e6ae03f"
      },
      "source": [
        "### Fitting a Random Forest classification model"
      ]
    },
    {
      "cell_type": "code",
      "execution_count": null,
      "id": "5137800a",
      "metadata": {
        "id": "5137800a",
        "outputId": "e2150ddc-cabf-4b81-d7d5-d2a122a55d2e"
      },
      "outputs": [
        {
          "name": "stdout",
          "output_type": "stream",
          "text": [
            "Accuracy is 99.11124731841863\n",
            "Cross validation is 69.71077272547181\n"
          ]
        }
      ],
      "source": [
        "from sklearn.ensemble import RandomForestClassifier,ExtraTreesClassifier\n",
        "model = RandomForestClassifier()\n",
        "ClassificationModel(model, X, y)"
      ]
    },
    {
      "cell_type": "markdown",
      "id": "e8cd2e79",
      "metadata": {
        "id": "e8cd2e79"
      },
      "source": [
        "#### With Scaled Data"
      ]
    },
    {
      "cell_type": "code",
      "execution_count": null,
      "id": "01a737e5",
      "metadata": {
        "id": "01a737e5",
        "outputId": "ff9553f7-5086-47ce-dc0a-1c7e0d83caf2"
      },
      "outputs": [
        {
          "name": "stdout",
          "output_type": "stream",
          "text": [
            "Accuracy is 98.98866074164879\n",
            "Cross validation is 69.1438461798081\n"
          ]
        }
      ],
      "source": [
        "from sklearn.ensemble import RandomForestClassifier,ExtraTreesClassifier\n",
        "model = RandomForestClassifier()\n",
        "ClassificationModel(model, scaled_data, y)"
      ]
    },
    {
      "cell_type": "markdown",
      "id": "d4dc39ee",
      "metadata": {
        "id": "d4dc39ee"
      },
      "source": [
        "### Fitting a Decision Tree classification model"
      ]
    },
    {
      "cell_type": "code",
      "execution_count": null,
      "id": "4456c1b3",
      "metadata": {
        "id": "4456c1b3",
        "outputId": "17a905c2-aa53-417d-91f8-1ed2a48b7228"
      },
      "outputs": [
        {
          "name": "stdout",
          "output_type": "stream",
          "text": [
            "Accuracy is 99.01930738584124\n",
            "Cross validation is 54.5942321830276\n"
          ]
        }
      ],
      "source": [
        "from sklearn.tree import DecisionTreeClassifier\n",
        "model = DecisionTreeClassifier()\n",
        "ClassificationModel(model, X, y)"
      ]
    },
    {
      "cell_type": "markdown",
      "id": "711c3487",
      "metadata": {
        "id": "711c3487"
      },
      "source": [
        "#### With Scaled Data"
      ]
    },
    {
      "cell_type": "code",
      "execution_count": null,
      "id": "6ed301bf",
      "metadata": {
        "id": "6ed301bf",
        "outputId": "8e5539d7-feba-4aaa-cc57-7c4aed59f391"
      },
      "outputs": [
        {
          "name": "stdout",
          "output_type": "stream",
          "text": [
            "Accuracy is 99.08060067422618\n",
            "Cross validation is 54.617211884291486\n"
          ]
        }
      ],
      "source": [
        "from sklearn.tree import DecisionTreeClassifier\n",
        "model = DecisionTreeClassifier()\n",
        "ClassificationModel(model, scaled_data, y)"
      ]
    },
    {
      "cell_type": "markdown",
      "id": "76af8b23",
      "metadata": {
        "id": "76af8b23"
      },
      "source": [
        "We see from the above that the Random Forest model with standardized data performed far better among the various classification models fitted. The poorest performance is using Logistic Regression."
      ]
    },
    {
      "cell_type": "markdown",
      "id": "3d93a5d5",
      "metadata": {
        "id": "3d93a5d5"
      },
      "source": [
        "## Hyperparameter tuning\n",
        "We can improve our models through hyperparameter tuning. Let us do this with the Random Forest classifier"
      ]
    },
    {
      "cell_type": "code",
      "execution_count": null,
      "id": "574e38e5",
      "metadata": {
        "scrolled": true,
        "id": "574e38e5",
        "outputId": "0c43b5ad-b88c-4c36-b81d-439d2226cd81"
      },
      "outputs": [
        {
          "name": "stdout",
          "output_type": "stream",
          "text": [
            "Accuracy is 98.37572785779956\n",
            "Cross validation is 79.41739853933623\n"
          ]
        }
      ],
      "source": [
        "model = RandomForestClassifier(n_estimators=100, min_samples_split=25, max_depth=7, max_features=1)\n",
        "ClassificationModel(model, X, y)"
      ]
    },
    {
      "cell_type": "code",
      "execution_count": null,
      "id": "a3069ea1",
      "metadata": {
        "id": "a3069ea1",
        "outputId": "d2ea481a-4b03-4ba3-b01e-76f5fcb25256"
      },
      "outputs": [
        {
          "name": "stdout",
          "output_type": "stream",
          "text": [
            "Accuracy is 100.0\n",
            "Cross validation is 74.71055342576798\n"
          ]
        }
      ],
      "source": [
        "model = RandomForestClassifier(n_estimators=100, min_samples_split=25, max_depth=7, max_features=1)\n",
        "ClassificationModel(model, scaled_data, y)"
      ]
    },
    {
      "cell_type": "markdown",
      "id": "8298be58",
      "metadata": {
        "id": "8298be58"
      },
      "source": [
        "We notice from the cross validation result that the model improved when we tunned the parameter."
      ]
    },
    {
      "cell_type": "markdown",
      "id": "e906dfb5",
      "metadata": {
        "id": "e906dfb5"
      },
      "source": [
        "#### Confusion Matrix"
      ]
    },
    {
      "cell_type": "code",
      "execution_count": null,
      "id": "147768f5",
      "metadata": {
        "id": "147768f5",
        "outputId": "296022a7-9ac0-4a13-a5bf-54e38440e114"
      },
      "outputs": [
        {
          "data": {
            "text/plain": [
              "RandomForestClassifier()"
            ]
          },
          "execution_count": 38,
          "metadata": {},
          "output_type": "execute_result"
        }
      ],
      "source": [
        "model = RandomForestClassifier()\n",
        "model.fit(x_train, y_train)"
      ]
    },
    {
      "cell_type": "code",
      "execution_count": null,
      "id": "7a2a3439",
      "metadata": {
        "id": "7a2a3439",
        "outputId": "d34c57a7-bd15-4c9f-887b-149fd3795d31"
      },
      "outputs": [
        {
          "data": {
            "text/plain": [
              "array([[1042,    0],\n",
              "       [   1,  986]], dtype=int64)"
            ]
          },
          "execution_count": 39,
          "metadata": {},
          "output_type": "execute_result"
        }
      ],
      "source": [
        "from sklearn.metrics import confusion_matrix\n",
        "y_pred = model.predict(x_test)\n",
        "conMat = confusion_matrix(y_test, y_pred)\n",
        "conMat"
      ]
    },
    {
      "cell_type": "markdown",
      "id": "6cb7442d",
      "metadata": {
        "id": "6cb7442d"
      },
      "source": [
        "#### Let us visualize the confusion matrix using a heat map"
      ]
    },
    {
      "cell_type": "code",
      "execution_count": null,
      "id": "e35a3fa8",
      "metadata": {
        "id": "e35a3fa8",
        "outputId": "d375a7e7-151e-443a-a72a-bdb93fffd7dc"
      },
      "outputs": [
        {
          "data": {
            "text/plain": [
              "<AxesSubplot:>"
            ]
          },
          "execution_count": 40,
          "metadata": {},
          "output_type": "execute_result"
        },
        {
          "data": {
            "image/png": "[encoded data removed]",
            "text/plain": [
              "<Figure size 640x480 with 2 Axes>"
            ]
          },
          "metadata": {},
          "output_type": "display_data"
        }
      ],
      "source": [
        "sns.heatmap(conMat, annot=True)"
      ]
    },
    {
      "cell_type": "markdown",
      "id": "fb913325",
      "metadata": {
        "id": "fb913325"
      },
      "source": [
        "## Testing the model on new and alien data"
      ]
    },
    {
      "cell_type": "markdown",
      "id": "9640a129",
      "metadata": {
        "id": "9640a129"
      },
      "source": [
        "#### Imprt testing data set"
      ]
    },
    {
      "cell_type": "code",
      "execution_count": null,
      "id": "577435f6",
      "metadata": {
        "id": "577435f6"
      },
      "outputs": [],
      "source": [
        "x_test = pd.read_csv(\"E:\\Downloads\\Compressed\\Stress-Predict-Dataset-main\\CleanedData/testdata.csv\")"
      ]
    },
    {
      "cell_type": "markdown",
      "id": "df8ee028",
      "metadata": {
        "id": "df8ee028"
      },
      "source": [
        "#### Drop the unnecessary columns"
      ]
    },
    {
      "cell_type": "code",
      "execution_count": null,
      "id": "bbdab693",
      "metadata": {
        "id": "bbdab693",
        "outputId": "1762f196-a040-4942-e3e7-ac2eb9230866"
      },
      "outputs": [
        {
          "data": {
            "text/html": [
              "<div>\n",
              "<style scoped>\n",
              "    .dataframe tbody tr th:only-of-type {\n",
              "        vertical-align: middle;\n",
              "    }\n",
              "\n",
              "    .dataframe tbody tr th {\n",
              "        vertical-align: top;\n",
              "    }\n",
              "\n",
              "    .dataframe thead th {\n",
              "        text-align: right;\n",
              "    }\n",
              "</style>\n",
              "<table border=\"1\" class=\"dataframe\">\n",
              "  <thead>\n",
              "    <tr style=\"text-align: right;\">\n",
              "      <th></th>\n",
              "      <th>IBI</th>\n",
              "      <th>Time</th>\n",
              "    </tr>\n",
              "  </thead>\n",
              "  <tbody>\n",
              "    <tr>\n",
              "      <th>0</th>\n",
              "      <td>20.656250</td>\n",
              "      <td>1644233390</td>\n",
              "    </tr>\n",
              "    <tr>\n",
              "      <th>1</th>\n",
              "      <td>21.406250</td>\n",
              "      <td>1644233390</td>\n",
              "    </tr>\n",
              "    <tr>\n",
              "      <th>2</th>\n",
              "      <td>22.140625</td>\n",
              "      <td>1644233391</td>\n",
              "    </tr>\n",
              "    <tr>\n",
              "      <th>3</th>\n",
              "      <td>22.843750</td>\n",
              "      <td>1644233392</td>\n",
              "    </tr>\n",
              "    <tr>\n",
              "      <th>4</th>\n",
              "      <td>23.546875</td>\n",
              "      <td>1644233393</td>\n",
              "    </tr>\n",
              "  </tbody>\n",
              "</table>\n",
              "</div>"
            ],
            "text/plain": [
              "         IBI        Time\n",
              "0  20.656250  1644233390\n",
              "1  21.406250  1644233390\n",
              "2  22.140625  1644233391\n",
              "3  22.843750  1644233392\n",
              "4  23.546875  1644233393"
            ]
          },
          "execution_count": 42,
          "metadata": {},
          "output_type": "execute_result"
        }
      ],
      "source": [
        "# specify input and output attributes\n",
        "X_test = x_test.drop(columns=['Label','Participant'], axis=1)\n",
        "y_test = x_test['Label']\n",
        "X_test.head()"
      ]
    },
    {
      "cell_type": "markdown",
      "id": "712d6734",
      "metadata": {
        "id": "712d6734"
      },
      "source": [
        "#### Run the model on the train data"
      ]
    },
    {
      "cell_type": "code",
      "execution_count": null,
      "id": "7c7065b1",
      "metadata": {
        "id": "7c7065b1",
        "outputId": "72635335-3ae4-47c7-f468-80795a99fc6c"
      },
      "outputs": [
        {
          "name": "stdout",
          "output_type": "stream",
          "text": [
            "Accuracy is 99.9507146377526\n",
            "Cross validation is 89.50437673954153\n"
          ]
        }
      ],
      "source": [
        "from sklearn.ensemble import RandomForestClassifier\n",
        "model = RandomForestClassifier()\n",
        "ClassificationModel(model, X, y)"
      ]
    },
    {
      "cell_type": "markdown",
      "id": "ae3b764c",
      "metadata": {
        "id": "ae3b764c"
      },
      "source": [
        "#### Create a prediction for the test data"
      ]
    },
    {
      "cell_type": "code",
      "execution_count": null,
      "id": "c5ff100d",
      "metadata": {
        "id": "c5ff100d",
        "outputId": "8a80ae0a-074e-4311-abd1-3aa742976a2c"
      },
      "outputs": [
        {
          "data": {
            "text/plain": [
              "array([0, 0, 0, ..., 0, 0, 0], dtype=int64)"
            ]
          },
          "execution_count": 46,
          "metadata": {},
          "output_type": "execute_result"
        }
      ],
      "source": [
        "pred = model.predict(X_test)\n",
        "pred"
      ]
    },
    {
      "cell_type": "markdown",
      "id": "a4211d4d",
      "metadata": {
        "id": "a4211d4d"
      },
      "source": [
        "#### Export the prediction with the labels"
      ]
    },
    {
      "cell_type": "code",
      "execution_count": null,
      "id": "c1cf6dc2",
      "metadata": {
        "id": "c1cf6dc2"
      },
      "outputs": [],
      "source": [
        "dfresult = pd.DataFrame(data={\"col1\": pred})\n",
        "dfresult.to_csv(\"E:\\Downloads\\Compressed\\Stress-Predict-Dataset-main\\CleanedData/prediction.csv\", sep=',',index=False)"
      ]
    }
  ],
  "metadata": {
    "kernelspec": {
      "display_name": "Python 3 (ipykernel)",
      "language": "python",
      "name": "python3"
    },
    "language_info": {
      "codemirror_mode": {
        "name": "ipython",
        "version": 3
      },
      "file_extension": ".py",
      "mimetype": "text/x-python",
      "name": "python",
      "nbconvert_exporter": "python",
      "pygments_lexer": "ipython3",
      "version": "3.9.13"
    },
    "colab": {
      "provenance": [],
      "include_colab_link": true
    }
  },
  "nbformat": 4,
  "nbformat_minor": 5
}